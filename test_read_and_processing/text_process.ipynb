{
 "cells": [
  {
   "cell_type": "code",
   "execution_count": 2,
   "metadata": {},
   "outputs": [],
   "source": [
    "import os\n",
    "import pandas as pd\n",
    "from pathlib import Path\n",
    "import re"
   ]
  },
  {
   "cell_type": "code",
   "execution_count": 3,
   "metadata": {},
   "outputs": [],
   "source": [
    "base_path = Path(os.getcwd()).parents[0]\n",
    "readed_text_path = base_path / 'readed_text'"
   ]
  },
  {
   "cell_type": "code",
   "execution_count": 4,
   "metadata": {},
   "outputs": [],
   "source": [
    "readed_files = pd.DataFrame()\n",
    "for dir in os.listdir(readed_text_path):\n",
    "    dir_path = readed_text_path / dir\n",
    "\n",
    "    for file in os.listdir(dir_path):\n",
    "        file_path = str(dir_path / file)\n",
    "\n",
    "        if re.search(r'[8].txt', file_path):\n",
    "            with open(file_path, encoding= 'UTF-8', ) as f:\n",
    "                temp_file = f.read().splitlines()\n",
    "                temp_df = pd.DataFrame(temp_file)\n",
    "                readed_files = pd.concat([readed_files,temp_df])\n",
    "readed_files = readed_files[~readed_files.duplicated()]\n",
    "\n"
   ]
  },
  {
   "cell_type": "code",
   "execution_count": 5,
   "metadata": {},
   "outputs": [],
   "source": [
    "df = readed_files[~readed_files.duplicated()]"
   ]
  },
  {
   "cell_type": "code",
   "execution_count": 6,
   "metadata": {},
   "outputs": [],
   "source": [
    "def if_product(text_line):\n",
    "    return re.search(r'[^\\-]\\s\\d+[,.]+?\\d\\d\\s?[0OABC]\\s', text_line)"
   ]
  },
  {
   "cell_type": "code",
   "execution_count": 7,
   "metadata": {},
   "outputs": [],
   "source": [
    "n = len(df[0].tolist())\n",
    "lst = df[0].tolist()\n",
    "new_items = []\n",
    "for i in range(n) :\n",
    "    cur_item = lst[i]\n",
    "    if  if_product(cur_item) and len(cur_item) < 25:\n",
    "        new_items[i-1] += cur_item\n",
    "        new_items.append(None)\n",
    "        continue\n",
    "    new_items.append(cur_item)\n"
   ]
  },
  {
   "cell_type": "code",
   "execution_count": 10,
   "metadata": {},
   "outputs": [],
   "source": [
    "pd.Series(new_items).to_excel(str(base_path / 'explo_file.xlsx'))"
   ]
  },
  {
   "cell_type": "code",
   "execution_count": null,
   "metadata": {},
   "outputs": [],
   "source": []
  }
 ],
 "metadata": {
  "interpreter": {
   "hash": "14dd958b22dbe5447d0654317a237f86b400c24252407a77e845e69303b48bfe"
  },
  "kernelspec": {
   "display_name": "Python 3.9.9 64-bit ('recipe_recognition_env': venv)",
   "language": "python",
   "name": "python3"
  },
  "language_info": {
   "codemirror_mode": {
    "name": "ipython",
    "version": 3
   },
   "file_extension": ".py",
   "mimetype": "text/x-python",
   "name": "python",
   "nbconvert_exporter": "python",
   "pygments_lexer": "ipython3",
   "version": "3.9.9"
  },
  "orig_nbformat": 4
 },
 "nbformat": 4,
 "nbformat_minor": 2
}
