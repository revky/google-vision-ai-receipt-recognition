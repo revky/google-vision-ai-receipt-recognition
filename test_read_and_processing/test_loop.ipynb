{
 "cells": [
  {
   "cell_type": "code",
   "execution_count": 4,
   "metadata": {},
   "outputs": [],
   "source": [
    "from file_manager import main\n",
    "import os\n",
    "\n",
    "cred = 'C:\\\\Users\\\\filip\\\\Desktop\\\\google-vision-ai-receipt-recognition\\\\key.json'\n",
    "parent_folder = os.path.abspath(os.path.join(os.getcwd(), os.pardir))\n",
    "pictures_folder = os.path.join(parent_folder,'test_pics')"
   ]
  },
  {
   "cell_type": "code",
   "execution_count": 5,
   "metadata": {},
   "outputs": [],
   "source": [
    "listed_pictures = os.listdir(pictures_folder)"
   ]
  },
  {
   "cell_type": "code",
   "execution_count": 6,
   "metadata": {},
   "outputs": [],
   "source": [
    "for picture in listed_pictures[:1]:\n",
    "    main(cred,os.path.join(pictures_folder,picture),8)"
   ]
  }
 ],
 "metadata": {
  "interpreter": {
   "hash": "14dd958b22dbe5447d0654317a237f86b400c24252407a77e845e69303b48bfe"
  },
  "kernelspec": {
   "display_name": "Python 3.9.9 64-bit ('recipe_recognition_env': venv)",
   "language": "python",
   "name": "python3"
  },
  "language_info": {
   "codemirror_mode": {
    "name": "ipython",
    "version": 3
   },
   "file_extension": ".py",
   "mimetype": "text/x-python",
   "name": "python",
   "nbconvert_exporter": "python",
   "pygments_lexer": "ipython3",
   "version": "3.9.9"
  },
  "orig_nbformat": 4
 },
 "nbformat": 4,
 "nbformat_minor": 2
}
