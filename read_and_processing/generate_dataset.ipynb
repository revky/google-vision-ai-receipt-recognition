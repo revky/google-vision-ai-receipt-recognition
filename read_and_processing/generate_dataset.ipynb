{
 "cells": [
  {
   "cell_type": "code",
   "execution_count": null,
   "metadata": {},
   "outputs": [],
   "source": [
    "from main import main \n",
    "from cloud_service import ApiConn\n",
    "from pathlib import Path\n",
    "import os\n",
    "\n",
    "cred_path = Path('.').resolve().parents[0] / 'key.json'\n",
    "client = ApiConn(str(cred_path)).get_client()\n",
    "picture_folder_path = Path('.').resolve().parents[0] / 'test_pics'\n",
    "list_of_image_paths = os.listdir(picture_folder_path)\n",
    "destination_path = Path('.').resolve().parents[0] / 'readed_text'\n",
    "\n",
    "\n",
    "def save_text_file(dir_path, pic, content, suffix = ''):\n",
    "    with open(os.path.join(dir_path, pic+suffix+'.txt'), 'w+', encoding = 'UTF-8') as f:\n",
    "        [f.writelines(line+'\\n') for line in content]\n",
    "\n",
    "for pic in list_of_image_paths:\n",
    "    pic_path = picture_folder_path / pic\n",
    "    recipt_new = main(client, pic_path)\n",
    "    dir_path = str(destination_path / pic)[:-4]\n",
    "    os.mkdir(dir_path)\n",
    "    save_text_file(dir_path, pic, recipt_new,'_new')"
   ]
  },
  {
   "cell_type": "code",
   "execution_count": null,
   "metadata": {},
   "outputs": [],
   "source": [
    "import pandas as pd\n",
    "import re\n",
    "\n",
    "base_path = Path(os.getcwd()).parents[0]\n",
    "readed_text_path = base_path / 'readed_text'\n",
    "readed_files = pd.DataFrame()\n",
    "\n",
    "for dir in os.listdir(readed_text_path):\n",
    "    dir_path = readed_text_path / dir\n",
    "\n",
    "    for file in os.listdir(dir_path):\n",
    "        file_path = str(dir_path / file)\n",
    "\n",
    "        if re.search(r'_new.txt', file_path):\n",
    "            with open(file_path, encoding= 'UTF-8', ) as f:\n",
    "                temp_file = f.read().splitlines()\n",
    "                temp_df = pd.DataFrame(temp_file)\n",
    "                readed_files = pd.concat([readed_files,temp_df])\n",
    "readed_files = readed_files[~readed_files.duplicated()]\n",
    "\n",
    "excel_path = Path('.').resolve().parents[0] / 'model' / 'data' / 'recipt_content.xlsx'\n",
    "readed_files.to_excel(str(excel_path))"
   ]
  }
 ],
 "metadata": {
  "interpreter": {
   "hash": "14dd958b22dbe5447d0654317a237f86b400c24252407a77e845e69303b48bfe"
  },
  "kernelspec": {
   "display_name": "Python 3.9.9 64-bit ('recipe_recognition_env': venv)",
   "language": "python",
   "name": "python3"
  },
  "language_info": {
   "codemirror_mode": {
    "name": "ipython",
    "version": 3
   },
   "file_extension": ".py",
   "mimetype": "text/x-python",
   "name": "python",
   "nbconvert_exporter": "python",
   "pygments_lexer": "ipython3",
   "version": "3.9.9"
  },
  "orig_nbformat": 4
 },
 "nbformat": 4,
 "nbformat_minor": 2
}
