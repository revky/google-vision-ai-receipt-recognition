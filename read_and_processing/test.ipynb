{
 "cells": [
  {
   "cell_type": "code",
   "execution_count": 1,
   "metadata": {},
   "outputs": [
    {
     "name": "stdout",
     "output_type": "stream",
     "text": [
      "['Biscuska Hinc Spółka Jawna ', 'ul. US. Rosochy 47 ', '27-Www ustrowiec Świętokrzyski ', 'lipieka Gemini ', 'ul. Smugowa 6 ', '97-200 Tomaszów Mazowiecki ', 'NIP 5851484213 ', 'dn.21r11.02 ', 'wydr 000032110 ', 'PARAGON FISKALNY ', 'VICHY Dercos szapp/łup wrazliwy. 17841A 1op 44,99 : 44,99 A ', 'Bez recepty 44,99 ', 'Sp.op. A 44,99 ', 'PIU A-23,00% ', '8,41 ', 'Razem PTU ', '8,41 ', 'Razem ', '44,99 ', 'SUMA PLN ', '44,99 ', '00022/0574 #MK/05 ', '13:53 ', '5B4D302A5AAC0567E0F92DCDCC 10587ECAAFE272 ', '72PCBW 1701564764 ', 'ZAPŁACONO KARTA PLN ', '44,99 ', 'KLIENT 4022 ']\n"
     ]
    }
   ],
   "source": [
    "from main import main \n",
    "from cloud_service import ApiConn\n",
    "from pathlib import Path\n",
    "import os\n",
    "\n",
    "cred_path = Path('.').resolve().parents[0] / 'key.json'\n",
    "client = ApiConn(str(cred_path)).get_client()\n",
    "picture_folder_path = Path('.').resolve().parents[0] / 'test_pics'\n",
    "list_of_image_paths = os.listdir(picture_folder_path)\n",
    "destination_path = Path('.').resolve().parents[0] / 'readed_text'\n",
    "\n",
    "def save_text_file(dir_path, pic, content, suffix = ''):\n",
    "    with open(os.path.join(dir_path, pic+suffix+'.txt'), 'w+', encoding = 'UTF-8') as f:\n",
    "        [f.writelines(line+'\\n') for line in content]\n",
    "\n",
    "for pic in list_of_image_paths[:1]:\n",
    "    pic_path = picture_folder_path / pic\n",
    "    recipt_old, recipt_new = main(client, pic_path)\n",
    "    dir_path = str(destination_path / pic)[:-4]\n",
    "    os.mkdir(dir_path)\n",
    "    save_text_file(dir_path, pic, recipt_old,'_old')\n",
    "    save_text_file(dir_path, pic, recipt_new,'_new')\n",
    "     "
   ]
  }
 ],
 "metadata": {
  "interpreter": {
   "hash": "14dd958b22dbe5447d0654317a237f86b400c24252407a77e845e69303b48bfe"
  },
  "kernelspec": {
   "display_name": "Python 3.9.9 64-bit ('recipe_recognition_env': venv)",
   "language": "python",
   "name": "python3"
  },
  "language_info": {
   "codemirror_mode": {
    "name": "ipython",
    "version": 3
   },
   "file_extension": ".py",
   "mimetype": "text/x-python",
   "name": "python",
   "nbconvert_exporter": "python",
   "pygments_lexer": "ipython3",
   "version": "3.9.9"
  },
  "orig_nbformat": 4
 },
 "nbformat": 4,
 "nbformat_minor": 2
}
