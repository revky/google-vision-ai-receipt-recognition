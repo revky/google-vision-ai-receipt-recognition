{
 "cells": [
  {
   "cell_type": "code",
   "execution_count": 1,
   "metadata": {},
   "outputs": [],
   "source": [
    "from process_text import ProcessText as pt\n",
    "from cloud_service import ApiConn, get_full_text_from_recipe\n",
    "from pathlib import Path"
   ]
  },
  {
   "cell_type": "code",
   "execution_count": 2,
   "metadata": {},
   "outputs": [],
   "source": [
    "cred_path = Path('.').resolve().parents[0] / 'key.json'\n",
    "pic_path = Path('.').resolve().parents[0] / 'test_pics\\\\f_1.jpg'"
   ]
  },
  {
   "cell_type": "code",
   "execution_count": 3,
   "metadata": {},
   "outputs": [],
   "source": [
    "def main():\n",
    "    a = ApiConn(str(cred_path))\n",
    "    full_text = get_full_text_from_recipe(pic_path, a.get_client())\n",
    "    all_symbols = pt.get_list_of_symbols_from_full_text(full_text)\n",
    "    rebuilded_lines = pt.build_custom_lines_of_text(all_symbols)\n",
    "    corrected_lines = pt.correct_mistakes_in_rebuilded_lines(rebuilded_lines)\n",
    "    return corrected_lines"
   ]
  },
  {
   "cell_type": "code",
   "execution_count": 4,
   "metadata": {},
   "outputs": [],
   "source": [
    "output = main()"
   ]
  },
  {
   "cell_type": "code",
   "execution_count": 5,
   "metadata": {},
   "outputs": [
    {
     "data": {
      "text/plain": [
       "['Od onio hikio ceny ',\n",
       " 'Sklep 4054 os. Niewiadów 4BA, 97-225 U ',\n",
       " 'jazdJeronino Martins Polska S.A.ul. Zniuna 5, 62-025 Kostrzyn ',\n",
       " 'NIP 779-10-11-327 ',\n",
       " '2021-11-05 16:46 1044985 ',\n",
       " 'PARAGON FISKALNY ',\n",
       " 'MLEKO POLSKIE 3,2 11 0 1 X2,89 2,89C ',\n",
       " 'GKGrochGrzanknor 21 9 4 x1,29 5,16C ',\n",
       " 'Zappieczserszy 150g G 2x3,49 6,980 ',\n",
       " 'SokTkoBraSadoő,751 С 1x4,99 4,99C ',\n",
       " 'SPRZEDAZ OPODATKOWANA C ',\n",
       " '20,02 ',\n",
       " 'PTU C 5,00 % ',\n",
       " '0.95 ',\n",
       " 'SUMA PTU ',\n",
       " '0,95 ',\n",
       " '20.02 ',\n",
       " '00434 #Kasa 1 Kasjer nr 15 2021-11-05 16:46 ',\n",
       " 'E8AD1663F87722EC4E7659921CC35E11A009316 ',\n",
       " 'ECCH 1701371686 SUMA PLN ',\n",
       " '1000040548307067401775 ',\n",
       " 'Nr sys: 8307 ',\n",
       " 'Karta Visa Credit 07 1 20,02 PLN ',\n",
       " 'Nr transakcji: ',\n",
       " '8307 ',\n",
       " 'Numer: ',\n",
       " '4054211105830701 ',\n",
       " 'NIP 779-10-11-327 ',\n",
       " '2021-11-05 16:46 ',\n",
       " '1044986 ',\n",
       " 'NIEFISKALNY ',\n",
       " 'KUPUJ CO POLSKIE ',\n",
       " 'WARTOŚĆ \"KUPUJ CO POLSKIE\" W TWOICH ZAKUPACH, ',\n",
       " 'ZWYŁĄCZENIEM PRODUKTÓW NIEBIORĄCYCH UDZIAŁU W AKCJI, WYNOSI: ',\n",
       " '*** 20,02 zł *** ',\n",
       " 'DZIEKUJEMY ZA TWOJE WSPARCIE DIA POLSKIEJ GOSPODANKI ',\n",
       " 'WIĘCEJ NA BIEDRONKA.PL/KUPUJCOPOLSKIE ']"
      ]
     },
     "execution_count": 5,
     "metadata": {},
     "output_type": "execute_result"
    }
   ],
   "source": [
    "output"
   ]
  }
 ],
 "metadata": {
  "interpreter": {
   "hash": "14dd958b22dbe5447d0654317a237f86b400c24252407a77e845e69303b48bfe"
  },
  "kernelspec": {
   "display_name": "Python 3.9.9 64-bit ('recipe_recognition_env': venv)",
   "language": "python",
   "name": "python3"
  },
  "language_info": {
   "codemirror_mode": {
    "name": "ipython",
    "version": 3
   },
   "file_extension": ".py",
   "mimetype": "text/x-python",
   "name": "python",
   "nbconvert_exporter": "python",
   "pygments_lexer": "ipython3",
   "version": "3.9.9"
  },
  "orig_nbformat": 4
 },
 "nbformat": 4,
 "nbformat_minor": 2
}
