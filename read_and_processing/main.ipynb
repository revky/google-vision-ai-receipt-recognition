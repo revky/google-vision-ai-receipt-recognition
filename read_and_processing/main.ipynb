{
 "cells": [
  {
   "cell_type": "code",
   "execution_count": 9,
   "metadata": {},
   "outputs": [],
   "source": [
    "from process_text import ProcessText as pt\n",
    "from cloud_service import ApiConn, get_full_text_from_recipe\n",
    "from pathlib import Path"
   ]
  },
  {
   "cell_type": "code",
   "execution_count": 10,
   "metadata": {},
   "outputs": [],
   "source": [
    "cred_path = Path('.').resolve().parents[0] / 'key.json'\n",
    "pic_path = Path('.').resolve().parents[0] / 'test_pics\\\\f_7.jpg'\n",
    "\n",
    "def main():\n",
    "    a = ApiConn(str(cred_path))\n",
    "    full_text = get_full_text_from_recipe(pic_path, a.get_client())\n",
    "    all_symbols = pt.get_list_of_symbols_from_full_text(full_text)\n",
    "    rebuilded_lines = pt.build_custom_lines_of_text(all_symbols)\n",
    "    corrected_lines = pt.correct_mistakes_in_rebuilded_lines(rebuilded_lines)\n",
    "    return corrected_lines\n",
    "output = main()"
   ]
  },
  {
   "cell_type": "code",
   "execution_count": 11,
   "metadata": {},
   "outputs": [
    {
     "data": {
      "text/plain": [
       "['CARREFOUR Tomaszów Maz. ',\n",
       " '97-200 Tomaszów Maz.ul. Jana Pawła 22 ',\n",
       " 'Tel. (44) 725-91-50 ',\n",
       " 'CARREFOUR Polska Sp. Z O.O. ',\n",
       " '03-734 Warszawa ul. Targowa 72 ',\n",
       " 'Nr rej. BDO: 000009699 ',\n",
       " 'NIP 937-00-08-168 ',\n",
       " '2021-11-06 nr wydr.263594 ',\n",
       " 'PARAGON FISKALNY ',\n",
       " 'A_PŁYN DO PŁ UST CO 1szt*13,69= 13,69 A ',\n",
       " 'CCHIPSY WIEJSKIE Z 1szt*3,69= 3,69 C ',\n",
       " 'CSOK TYMBARK 1L MU 1szt*4, 19= 4,19 C ',\n",
       " 'CPOMIDORY PUDLISZK 1szt*4,49= 4,49 C ',\n",
       " 'CFIT&EASY PARTY 1szt*5,99= 5,99 C ',\n",
       " 'CPIZZA FELICIANA 3 1szt*9,49= 9,49 C ',\n",
       " 'CPIZZA FELICIANA 3 1szt*9,49= 9,49 C ',\n",
       " 'CSER TWARDY FORMAG 1szt*9,79= 9,79 C ',\n",
       " 'ATORBA ELECTROLUX 2szt*4,49= 8,98 A ',\n",
       " 'Sprzed. opod. PTU A 22,67 ',\n",
       " 'Kwota A 23,00% ',\n",
       " 'Sprzed opód. PTU CAS180 47,43 . ',\n",
       " 'Kwota C 05,00% SITELERAS 2,24 ',\n",
       " 'Podatek PTU 6,48 ',\n",
       " '69,80 ',\n",
       " '000209 #052 702 19:13 ',\n",
       " '4717E-6C76J-GPQHB-4FYD5-1UDOB ']"
      ]
     },
     "execution_count": 11,
     "metadata": {},
     "output_type": "execute_result"
    }
   ],
   "source": [
    "output"
   ]
  }
 ],
 "metadata": {
  "interpreter": {
   "hash": "14dd958b22dbe5447d0654317a237f86b400c24252407a77e845e69303b48bfe"
  },
  "kernelspec": {
   "display_name": "Python 3.9.9 64-bit ('recipe_recognition_env': venv)",
   "language": "python",
   "name": "python3"
  },
  "language_info": {
   "codemirror_mode": {
    "name": "ipython",
    "version": 3
   },
   "file_extension": ".py",
   "mimetype": "text/x-python",
   "name": "python",
   "nbconvert_exporter": "python",
   "pygments_lexer": "ipython3",
   "version": "3.9.9"
  },
  "orig_nbformat": 4
 },
 "nbformat": 4,
 "nbformat_minor": 2
}
