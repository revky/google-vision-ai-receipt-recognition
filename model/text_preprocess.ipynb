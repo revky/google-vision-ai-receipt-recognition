{
 "cells": [
  {
   "cell_type": "code",
   "execution_count": 44,
   "metadata": {},
   "outputs": [],
   "source": [
    "import pandas as pd\n",
    "from pathlib import Path\n",
    "import re\n",
    "import fasttext\n",
    "import csv"
   ]
  },
  {
   "cell_type": "code",
   "execution_count": 45,
   "metadata": {},
   "outputs": [],
   "source": [
    "file_path = Path('.').resolve() / 'data' / 'explo_file.xlsx'\n",
    "df= pd.read_excel(file_path).dropna()\n",
    "df['score'] = df['score'].astype(str)"
   ]
  },
  {
   "cell_type": "code",
   "execution_count": 46,
   "metadata": {},
   "outputs": [],
   "source": [
    "def mask_numbers(value):\n",
    "    return re.sub(r'[0-9]+?','q',value)\n",
    "\n",
    "def return_product_and_price(text):\n",
    "    if re.search(r'[^\\-]\\s\\d+[,.]+?\\d\\d\\s?[0OABC]\\s',text) and len(text) > 25:\n",
    "        product, price = re.findall(r'(.+)(\\d+[,. ]+?\\d+\\s?[ABC0O]{1})$', text.strip())[0]\n",
    "        formatted_price = price.strip().replace(\" \",'')[:-1]\n",
    "        return mask_numbers(product) + 'qqqqq', formatted_price\n",
    "    return mask_numbers(text), None\n",
    "df['masaked_text'] = df['text'].apply(return_product_and_price).str[0]\n",
    "df['price'] = df['text'].apply(return_product_and_price).str[1]"
   ]
  },
  {
   "cell_type": "code",
   "execution_count": 47,
   "metadata": {},
   "outputs": [],
   "source": [
    "from sklearn.model_selection import train_test_split\n",
    "X = df['masaked_text']\n",
    "Y = df['score']\n",
    "X_train, X_test, y_train, y_test = train_test_split(X, Y, test_size=0.30, random_state=42)"
   ]
  },
  {
   "cell_type": "code",
   "execution_count": 48,
   "metadata": {},
   "outputs": [],
   "source": [
    "# NLP Preprocessing\n",
    "from gensim.utils import simple_preprocess\n",
    "\n",
    "# Importing the dataset\n",
    "dataset = pd.DataFrame({'value':X_train,'score':y_train})\n",
    "ds = pd.DataFrame({'value':X_test,'score':y_test})\n",
    "\n",
    "# NLP Preprocess\n",
    "dataset.iloc[:, 0] = dataset.iloc[:, 0].apply(lambda x: ' '.join(simple_preprocess(x)))\n",
    "ds.iloc[:, 0] = ds.iloc[:, 0].apply(lambda x: ' '.join(simple_preprocess(x)))\n",
    "\n",
    "# Prefixing each row of the category column with '__label__'\n",
    "dataset.iloc[:, 1] = dataset.iloc[:, 1].apply(lambda x: '__label__' + x)\n",
    "ds.iloc[:, 1] = ds.iloc[:, 1].apply(lambda x: '__label__' + x)"
   ]
  },
  {
   "cell_type": "code",
   "execution_count": 49,
   "metadata": {},
   "outputs": [],
   "source": [
    "# Saving the CSV file as a text file to train/test the classifier\n",
    "train_path = (Path('data') / 'train.txt').resolve()\n",
    "test_path = (Path('data') / 'test.txt').resolve()\n",
    "\n",
    "dataset[['value', 'score']].to_csv(train_path, \n",
    "                                          index = False, \n",
    "                                          sep = ' ',\n",
    "                                          header = None, \n",
    "                                          quoting = csv.QUOTE_NONE, \n",
    "                                          quotechar = \"\", \n",
    "                                          escapechar = \" \")\n",
    "\n",
    "ds[['value', 'score']].to_csv(test_path, \n",
    "                                     index = False, \n",
    "                                     sep = ' ',\n",
    "                                     header = None, \n",
    "                                     quoting = csv.QUOTE_NONE, \n",
    "                                     quotechar = \"\", \n",
    "                                     escapechar = \" \")"
   ]
  },
  {
   "cell_type": "code",
   "execution_count": 50,
   "metadata": {},
   "outputs": [
    {
     "data": {
      "text/plain": [
       "(124, 0.9516129032258065, 0.9516129032258065)"
      ]
     },
     "execution_count": 50,
     "metadata": {},
     "output_type": "execute_result"
    }
   ],
   "source": [
    "# Training the fastText classifier\n",
    "model = fasttext.train_supervised(str(train_path), wordNgrams = 2)\n",
    "\n",
    "# Evaluating performance on the entire test file\n",
    "model.test(str(test_path))                      "
   ]
  },
  {
   "cell_type": "code",
   "execution_count": 51,
   "metadata": {},
   "outputs": [],
   "source": [
    "ds['predictions'] = [model.predict(text) for text in ds['value'].str.lower().tolist()]"
   ]
  },
  {
   "cell_type": "code",
   "execution_count": 52,
   "metadata": {},
   "outputs": [],
   "source": [
    "def evaluate_model(model_output):\n",
    "    thresh = 0.6\n",
    "    score = model_output[0][0][-1]\n",
    "    accuracy = model_output[1][0]\n",
    "    if score == '1' and accuracy < thresh:\n",
    "        return 0\n",
    "    if score == '1' and accuracy > thresh:\n",
    "        return 1\n",
    "    if score == '0' and accuracy < thresh:\n",
    "        return 1\n",
    "    if score == '0' and accuracy > thresh:\n",
    "        return 0"
   ]
  },
  {
   "cell_type": "code",
   "execution_count": 53,
   "metadata": {},
   "outputs": [],
   "source": [
    "ds['predicted_value'] = ds['predictions'].apply(evaluate_model)"
   ]
  },
  {
   "cell_type": "code",
   "execution_count": 54,
   "metadata": {},
   "outputs": [
    {
     "name": "stdout",
     "output_type": "stream",
     "text": [
      "              precision    recall  f1-score   support\n",
      "\n",
      "           0       0.94      1.00      0.97        89\n",
      "           1       1.00      0.83      0.91        35\n",
      "\n",
      "    accuracy                           0.95       124\n",
      "   macro avg       0.97      0.91      0.94       124\n",
      "weighted avg       0.95      0.95      0.95       124\n",
      "\n",
      "[[89  0]\n",
      " [ 6 29]]\n"
     ]
    }
   ],
   "source": [
    "from sklearn.metrics import classification_report, confusion_matrix\n",
    "\n",
    "predictions = ds['predictions'].apply(evaluate_model).values.reshape((-1,1))\n",
    "score =  ds['score'].str.replace('__label__','').astype(int).values.reshape((-1,1))\n",
    "print(classification_report(score,predictions))\n",
    "print(confusion_matrix(score, predictions))"
   ]
  }
 ],
 "metadata": {
  "interpreter": {
   "hash": "14dd958b22dbe5447d0654317a237f86b400c24252407a77e845e69303b48bfe"
  },
  "kernelspec": {
   "display_name": "Python 3.9.9 64-bit ('recipe_recognition_env': venv)",
   "language": "python",
   "name": "python3"
  },
  "language_info": {
   "codemirror_mode": {
    "name": "ipython",
    "version": 3
   },
   "file_extension": ".py",
   "mimetype": "text/x-python",
   "name": "python",
   "nbconvert_exporter": "python",
   "pygments_lexer": "ipython3",
   "version": "3.9.9"
  },
  "orig_nbformat": 4
 },
 "nbformat": 4,
 "nbformat_minor": 2
}
