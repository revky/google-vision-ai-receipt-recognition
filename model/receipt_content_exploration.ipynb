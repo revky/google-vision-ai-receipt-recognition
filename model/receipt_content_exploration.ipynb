{
 "cells": [
  {
   "cell_type": "code",
   "execution_count": 2,
   "metadata": {},
   "outputs": [],
   "source": [
    "import pandas as pd\n",
    "from pathlib import Path\n",
    "import re"
   ]
  },
  {
   "cell_type": "code",
   "execution_count": 3,
   "metadata": {},
   "outputs": [
    {
     "name": "stdout",
     "output_type": "stream",
     "text": [
      "<class 'pandas.core.frame.DataFrame'>\n",
      "RangeIndex: 681 entries, 0 to 680\n",
      "Data columns (total 2 columns):\n",
      " #   Column      Non-Null Count  Dtype  \n",
      "---  ------      --------------  -----  \n",
      " 0   content     681 non-null    object \n",
      " 1   is_product  681 non-null    float64\n",
      "dtypes: float64(1), object(1)\n",
      "memory usage: 10.8+ KB\n",
      "None\n"
     ]
    }
   ],
   "source": [
    "file_path = Path('.').resolve() / 'data' / 'recipt_content.xlsx'\n",
    "recipe_content = pd.read_excel(file_path, index_col=0).rename({0:'content'},axis = 1).dropna().reset_index(drop=True)\n",
    "recipe_content.head(15).iloc[10].content\n",
    "print(recipe_content.info())"
   ]
  },
  {
   "cell_type": "code",
   "execution_count": 4,
   "metadata": {},
   "outputs": [],
   "source": [
    "def extract_price(text_content:str):\n",
    "    t =  text_content.replace(':','0')\n",
    "    pattern = r'[^.,-]\\.?(\\s?\\d+[,.]+?\\d\\d\\s?[0OABC846]\\s)'\n",
    "    if re.search(pattern,t) and len(t) > 25:\n",
    "        price = re.findall(pattern, t)\n",
    "        return price[0]\n",
    "    return None\n",
    "\n",
    "recipe_content['price'] = recipe_content['content'].apply(extract_price)"
   ]
  },
  {
   "cell_type": "code",
   "execution_count": 5,
   "metadata": {},
   "outputs": [],
   "source": [
    "only_products = recipe_content.loc[recipe_content['is_product'] == 1]"
   ]
  },
  {
   "cell_type": "code",
   "execution_count": 6,
   "metadata": {},
   "outputs": [
    {
     "name": "stdout",
     "output_type": "stream",
     "text": [
      "                       content  is_product price\n",
      "85         KIWI 1 x1,79 1,790          1.0  None\n",
      "87      LIMONKA 3 x1,79 5,37C          1.0  None\n",
      "405  CCHLEB 500g 1*2.69 2.690          1.0  None\n",
      "502      1szt. x10,99 10,9: A          1.0  None\n"
     ]
    },
    {
     "data": {
      "text/plain": "                                               content  is_product      price\n10   VICHY Dercos szapp/łup wrazliwy. 17841A 1op 44...         1.0   44,99 0 \n32   BLOK BIUROWY A4 100K TOP COLOR 2.0 1SZT x5,20 ...         1.0     5,20A \n33               ZESZYT AS 60K KRAFT 1SZT X3,00 3,00A          1.0     3,00A \n34              ZESZYT A5 32K PP TOP 1SZT X2,80 2,80A          1.0     2,80A \n35    KOPERTY DO ZAPROSZEN METALICZNE 2SZT 1,00 2,00A          1.0     2,00A \n..                                                 ...         ...        ...\n615                TYMBARK SOK MULTIVEJ 1 x2,49 2,490          1.0     2,490 \n617              EKA SCHMITT PŁYTK\\AX 1 X24,99 24.99A          1.0    24.99A \n619                KUPIEC WAFLE RYZOVEJ 1 x2,19 2,190          1.0     2,190 \n641       2004714399999 WODA TOALETO 1*59,90= 59,90 A          1.0   59,90 A \n660               POŚCIEL 0343272 X 2 * 49,99 99,98 A          1.0   99,98 A \n\n[182 rows x 3 columns]",
      "text/html": "<div>\n<style scoped>\n    .dataframe tbody tr th:only-of-type {\n        vertical-align: middle;\n    }\n\n    .dataframe tbody tr th {\n        vertical-align: top;\n    }\n\n    .dataframe thead th {\n        text-align: right;\n    }\n</style>\n<table border=\"1\" class=\"dataframe\">\n  <thead>\n    <tr style=\"text-align: right;\">\n      <th></th>\n      <th>content</th>\n      <th>is_product</th>\n      <th>price</th>\n    </tr>\n  </thead>\n  <tbody>\n    <tr>\n      <th>10</th>\n      <td>VICHY Dercos szapp/łup wrazliwy. 17841A 1op 44...</td>\n      <td>1.0</td>\n      <td>44,99 0</td>\n    </tr>\n    <tr>\n      <th>32</th>\n      <td>BLOK BIUROWY A4 100K TOP COLOR 2.0 1SZT x5,20 ...</td>\n      <td>1.0</td>\n      <td>5,20A</td>\n    </tr>\n    <tr>\n      <th>33</th>\n      <td>ZESZYT AS 60K KRAFT 1SZT X3,00 3,00A</td>\n      <td>1.0</td>\n      <td>3,00A</td>\n    </tr>\n    <tr>\n      <th>34</th>\n      <td>ZESZYT A5 32K PP TOP 1SZT X2,80 2,80A</td>\n      <td>1.0</td>\n      <td>2,80A</td>\n    </tr>\n    <tr>\n      <th>35</th>\n      <td>KOPERTY DO ZAPROSZEN METALICZNE 2SZT 1,00 2,00A</td>\n      <td>1.0</td>\n      <td>2,00A</td>\n    </tr>\n    <tr>\n      <th>...</th>\n      <td>...</td>\n      <td>...</td>\n      <td>...</td>\n    </tr>\n    <tr>\n      <th>615</th>\n      <td>TYMBARK SOK MULTIVEJ 1 x2,49 2,490</td>\n      <td>1.0</td>\n      <td>2,490</td>\n    </tr>\n    <tr>\n      <th>617</th>\n      <td>EKA SCHMITT PŁYTK\\AX 1 X24,99 24.99A</td>\n      <td>1.0</td>\n      <td>24.99A</td>\n    </tr>\n    <tr>\n      <th>619</th>\n      <td>KUPIEC WAFLE RYZOVEJ 1 x2,19 2,190</td>\n      <td>1.0</td>\n      <td>2,190</td>\n    </tr>\n    <tr>\n      <th>641</th>\n      <td>2004714399999 WODA TOALETO 1*59,90= 59,90 A</td>\n      <td>1.0</td>\n      <td>59,90 A</td>\n    </tr>\n    <tr>\n      <th>660</th>\n      <td>POŚCIEL 0343272 X 2 * 49,99 99,98 A</td>\n      <td>1.0</td>\n      <td>99,98 A</td>\n    </tr>\n  </tbody>\n</table>\n<p>182 rows × 3 columns</p>\n</div>"
     },
     "execution_count": 6,
     "metadata": {},
     "output_type": "execute_result"
    }
   ],
   "source": [
    "print(only_products.loc[only_products['price'].isnull()])\n",
    "only_products"
   ]
  },
  {
   "cell_type": "code",
   "execution_count": 7,
   "metadata": {},
   "outputs": [],
   "source": [
    "only_recognised = recipe_content.loc[recipe_content['price'].notnull()]"
   ]
  },
  {
   "cell_type": "code",
   "execution_count": 8,
   "metadata": {},
   "outputs": [
    {
     "name": "stdout",
     "output_type": "stream",
     "text": [
      "is_product\n",
      "1.0    178\n",
      "dtype: int64\n",
      "Empty DataFrame\n",
      "Columns: [content, is_product, price]\n",
      "Index: []\n"
     ]
    },
    {
     "data": {
      "text/plain": "                                               content  is_product      price\n10   VICHY Dercos szapp/łup wrazliwy. 17841A 1op 44...         1.0   44,99 0 \n32   BLOK BIUROWY A4 100K TOP COLOR 2.0 1SZT x5,20 ...         1.0     5,20A \n33               ZESZYT AS 60K KRAFT 1SZT X3,00 3,00A          1.0     3,00A \n34              ZESZYT A5 32K PP TOP 1SZT X2,80 2,80A          1.0     2,80A \n35    KOPERTY DO ZAPROSZEN METALICZNE 2SZT 1,00 2,00A          1.0     2,00A \n..                                                 ...         ...        ...\n615                TYMBARK SOK MULTIVEJ 1 x2,49 2,490          1.0     2,490 \n617              EKA SCHMITT PŁYTK\\AX 1 X24,99 24.99A          1.0    24.99A \n619                KUPIEC WAFLE RYZOVEJ 1 x2,19 2,190          1.0     2,190 \n641       2004714399999 WODA TOALETO 1*59,90= 59,90 A          1.0   59,90 A \n660               POŚCIEL 0343272 X 2 * 49,99 99,98 A          1.0   99,98 A \n\n[178 rows x 3 columns]",
      "text/html": "<div>\n<style scoped>\n    .dataframe tbody tr th:only-of-type {\n        vertical-align: middle;\n    }\n\n    .dataframe tbody tr th {\n        vertical-align: top;\n    }\n\n    .dataframe thead th {\n        text-align: right;\n    }\n</style>\n<table border=\"1\" class=\"dataframe\">\n  <thead>\n    <tr style=\"text-align: right;\">\n      <th></th>\n      <th>content</th>\n      <th>is_product</th>\n      <th>price</th>\n    </tr>\n  </thead>\n  <tbody>\n    <tr>\n      <th>10</th>\n      <td>VICHY Dercos szapp/łup wrazliwy. 17841A 1op 44...</td>\n      <td>1.0</td>\n      <td>44,99 0</td>\n    </tr>\n    <tr>\n      <th>32</th>\n      <td>BLOK BIUROWY A4 100K TOP COLOR 2.0 1SZT x5,20 ...</td>\n      <td>1.0</td>\n      <td>5,20A</td>\n    </tr>\n    <tr>\n      <th>33</th>\n      <td>ZESZYT AS 60K KRAFT 1SZT X3,00 3,00A</td>\n      <td>1.0</td>\n      <td>3,00A</td>\n    </tr>\n    <tr>\n      <th>34</th>\n      <td>ZESZYT A5 32K PP TOP 1SZT X2,80 2,80A</td>\n      <td>1.0</td>\n      <td>2,80A</td>\n    </tr>\n    <tr>\n      <th>35</th>\n      <td>KOPERTY DO ZAPROSZEN METALICZNE 2SZT 1,00 2,00A</td>\n      <td>1.0</td>\n      <td>2,00A</td>\n    </tr>\n    <tr>\n      <th>...</th>\n      <td>...</td>\n      <td>...</td>\n      <td>...</td>\n    </tr>\n    <tr>\n      <th>615</th>\n      <td>TYMBARK SOK MULTIVEJ 1 x2,49 2,490</td>\n      <td>1.0</td>\n      <td>2,490</td>\n    </tr>\n    <tr>\n      <th>617</th>\n      <td>EKA SCHMITT PŁYTK\\AX 1 X24,99 24.99A</td>\n      <td>1.0</td>\n      <td>24.99A</td>\n    </tr>\n    <tr>\n      <th>619</th>\n      <td>KUPIEC WAFLE RYZOVEJ 1 x2,19 2,190</td>\n      <td>1.0</td>\n      <td>2,190</td>\n    </tr>\n    <tr>\n      <th>641</th>\n      <td>2004714399999 WODA TOALETO 1*59,90= 59,90 A</td>\n      <td>1.0</td>\n      <td>59,90 A</td>\n    </tr>\n    <tr>\n      <th>660</th>\n      <td>POŚCIEL 0343272 X 2 * 49,99 99,98 A</td>\n      <td>1.0</td>\n      <td>99,98 A</td>\n    </tr>\n  </tbody>\n</table>\n<p>178 rows × 3 columns</p>\n</div>"
     },
     "execution_count": 8,
     "metadata": {},
     "output_type": "execute_result"
    }
   ],
   "source": [
    "print(only_recognised.value_counts('is_product'))\n",
    "print(only_recognised.loc[only_recognised['is_product'] == 0])\n",
    "only_recognised\n",
    "# can be fixed by specifying demanded length"
   ]
  },
  {
   "cell_type": "code",
   "execution_count": 9,
   "metadata": {},
   "outputs": [],
   "source": [
    "temp = pd.concat([only_recognised,only_products]).drop_duplicates()"
   ]
  },
  {
   "cell_type": "code",
   "execution_count": 13,
   "metadata": {},
   "outputs": [
    {
     "data": {
      "text/plain": "['VICHY Dercos szapp/łup wrazliwy. 17841A 1op 44,99 : 44,99 A',\n 'BLOK BIUROWY A4 100K TOP COLOR 2.0 1SZT x5,20 5,20A',\n 'ZESZYT AS 60K KRAFT 1SZT X3,00 3,00A',\n 'ZESZYT A5 32K PP TOP 1SZT X2,80 2,80A',\n 'KOPERTY DO ZAPROSZEN METALICZNE 2SZT 1,00 2,00A',\n 'KOPERTA WIZYTOWA 2SZT X0,80 1,60A',\n 'VICHY Dercos Silip p/lup wrazliwy. 17841A 1op * 44,99 44,99 A',\n 'LIPTON ICE TEA GREEN 1.5L 1 x4,79 4,79A',\n 'PIHO AMBER PSZENICZNIAK 1 x4,99 4.99A',\n 'HIND SE CARLO ROSSI ROSE 1 x19,99 19,99A',\n 'ZOZOLE HELLO ZELO RAIN.75 1 x2,69 2,69A',\n 'BON RI RYZ BASMATI 1 KG 1 x8,99 8.990',\n 'MONINI OLIWA Z OLIW.500ML 1 x19,99 19.990',\n 'PAPRYKA SŁODKA MIEL. 20 G 1 x0,99 0,99B',\n 'PAPRYKA OSTRA MIELONA 20G 1 x0,99 0,99B',\n 'REKLAMOWKA Z USZAMI 1 x0,69 0,69A',\n 'KAMIS PAPRYKA WEDZ. 20G 1 x1,79 1,798',\n 'CHEDDAR MATURE PL 160G 1 x6,39 6,39C',\n 'KAMIS KHIN RZYM 15 G 1 x1,79 1,798',\n 'KUKURYDZA 340G 1 x2,49 2,49C',\n 'FASOLA CZER. KIDNEY 410 G 1 x2.29 2,290',\n 'MANDARYNKI - KG 0,28 x7,99 2.24C',\n 'ZIOŁA W DONICZCE 1 x5,99 5,990',\n 'POMIDORY SUSZ W OLEJU280G 1 x6,99 6,99C',\n 'SHIETANA 182 400 G 1 x2,792,790',\n 'PRZYPRAWA DO KAWY MIX 20G 1 x1,69 1,69B',\n 'BANANY - KG 0,172 x4,99 0,86C',\n 'PAPRYKA CZERWONA KG 0,186 x6,99 1,30C',\n 'CEBULA ZOŁTA KG 0,162 x3,99 0,650',\n 'DR. OETKER DROZDZE 7 G 1 x1,29 1,29A',\n 'CIECIERZ/SOCZEW.Z/CZ.500G 1 x4,99 4.99C',\n 'CZOSNEK 250G OPAK 1 x5,99 5,990',\n 'MĄKA PSZENNA T.450, 1 KG 1 x2,19 2,190',\n 'PUDL ISZKI KONCENTRAT 200G 1 x2,99 2,99C',\n 'KAMIS OREGANO 10 G 1 x1,69 1,690',\n 'SZCZOTECZKA D/ZEBOW 12.99 2.99A',\n 'CUKIERKI MIX 1KG 0.385*19.99 7.70A',\n '2gałki Lodów 1 x8,00 8,00C',\n 'A_PŁYN DO PŁ UST CO 1szt*13,69= 13,69 A',\n 'CCHIPSY WIEJSKIE Z 1szt*3,69= 3,69 C',\n 'CSOK TYMBARK 1L MU 1szt*4, 19= 4,19 C',\n 'CPOMIDORY PUDLISZK 1szt*4,49= 4,49 C',\n 'CFIT&EASY PARTY 1szt*5,99= 5,99 C',\n 'CPIZZA FELICIANA 3 1szt*9,49= 9,49 C',\n 'CSER TWARDY FORMAG 1szt*9,79= 9,79 C',\n 'ATORBA ELECTROLUX 2szt*4,49= 8,98 A',\n 'BULKI MLECZNE 400G 15.69 5.690',\n 'CHLEB RAZOWY 450G 1.2.89 2.890',\n 'CIAST OWSIA/SEZ 1856 1.2.59 2.596',\n 'BUŁKA KAJZERKA 60G 740.30 2.10C',\n 'RZODKIEWKA SZT 181.99 1.990',\n 'KIELBASA KRAKOWS 90G 1*3.99 3.99C',\n 'SALATA LODOWA SZT. 1*4.99 4.990',\n 'REKLAMOHKA 35L 1*0.49 0.49A',\n '5884511ZABAWKA NIEMOWLĘCA A 1szt.*24,99= 24,99 A',\n 'MLEKO POLSKIE 3,2 11 C 1 x2,89 2,89C',\n 'GKGrochGrzanknor 21 4 x1,29 5,16C',\n 'Zappieczserszy 1509 С 2 x3,49 6,98C',\n 'Sok TiobraSadoő,751 C 1 x4,99 4,990',\n 'Lix krople do uszu, roztwór 7 g. 12738 B 1op * 26,95 = 26,95 B',\n '*Cheeseburger 1 -3.50 3,50B',\n '*Frytki Srednie 1 5,00 5,00B',\n 'A_WALIZKA EVA 64 CM 1*49,99= 49,99 A',\n 'sko Isk. LEN 18X24 1.000szt. 21.40 21.40A',\n 'Maku.K. LEN 40x50 2.000szt. 47.40 94.80A',\n 'BAGIETKA CZOSNK. WW 165G 2 x2,39 4,78C',\n 'TORCIK KAKAOWY 38 G 3 x1,09 3,27C',\n 'CZEKOLADOWE KRĄZKI 2006 1 x5,49 5,49A',\n 'CHUSTECZKI HIC. 10X10 1 X2,15 2,15A',\n 'CLEANIC NATURALS WAX 1 x5,29 5,29A',\n 'WkładkiFeninabiszt 0 2 x3.89 7,780',\n 'Chrupki Maczuki 1309 C 1X2,99 2.99C',\n 'Sok TłobraSadou.751 C. 1x4,99 4.990',\n 'Bagietka Czos 1659 C. 2x2,39 4,780',\n 'PodpultFresProszt 2 x4,49 8,98C',\n 'PianotworPINIOMalin A 1x3,99 3,99A',\n 'MydłLindakart 100g A 1x1,99 1,99A',\n 'Zupa k z dyni 4504 C 3x3,99 11,97C',\n 'Tarka Plas Poje zi 1 x14.99 14.99A',\n 'Napoj peppsi nax sleek 0.331 7598 1szt x2,40 2,40A',\n 'CBUŁKA KAJZERKA 60G 3*0.30 0.900',\n 'ALIKIER PIG 0,2L SOP *13.49 13.49A',\n 'AWODKA KRUPNIK 0,2L 1*11.79 11.798',\n 'Papier QueenBiat X8 A 1x4.19 4.194',\n 'Recznik Milla x2 A 1x3,99 3,99A',\n 'Torba T-SHIRT A 1x0,49 0,49A',\n 'Szynka kons 2009 C 3x5.99 17,970',\n 'Mn top up wol800g C 1 x14,99 14,990',\n 'MakaronPennePa500g C 2 x2,99 5.980',\n \"Mleko UH' 3.2 11 2 x2,49 4.980\",\n 'Jajalo HybM20szt C 1 x14.49 14,490',\n 'Pie uszat Kope 1539 2 x2.99 5.98C',\n 'Kost Culineo 1209 1 x1,65 1,65C',\n 'Prz Piep Kanis 22 В 2 x1,69 3,38B',\n 'Koskini 1359 1 x3,25 3,250',\n 'PonNaZapSzynkWin359 B 2 x2.59 5.18B',\n 'ZupagulaszKnorrol 9 C 1 x3,79 3.790',\n 'Papryka Słodka Czeru C 0.310 x9,99 3.100',\n 'Ser z. Swiat. 3009 C 1 x6,49 6,490',\n 'Mandarynka 1kg C 1 x6,99 6,990',\n 'Kapusta biała luz 1,860 x2.49 4.630',\n 'MajoneWiniar 900 ml B 1 x9.99 9.998',\n '22002 Bielizna chlopieca/neska 5P Colorf 1x69,95 69,95A',\n '34632 Bluzy chlopiece HD Raised Grey Rx! 1x89,95 89,95A',\n '37800 Bag for Accessories 1x0,25 0,25A',\n 'Zozole Trusk75g H 1szt. x2,69 2,69A',\n 'MogenDavMáscwino0,75 H# 1szt. *22.99 22,99A',\n 'Ni mm2Smiejzelki 100g # 1szt. 3,29 3,29A',\n 'OranzHelleWProszczer i 1szt. x0,99 0.99B',\n 'BracSadJal March0.251 t 1szt. x3,49 3,490',\n 'BracSadlocz Jabo 25 t 1szt. x3,49 3.490',\n 'PaolaSyropMalCyt0,43 i 1szt. x3,99 3,996',\n 'Bułka gryczana 80g t 2szt. x0,69 1,380',\n 'Bułka z serem 809 t 2szt. x0,90 1,80C',\n 'Ni mm2Smiejzelki 1009 H 1szt. x3,29 3,29A',\n 'LaysP2Plagurtz02009 t 1szt. 35,99 5.990',\n 'MilkaCiastkaSens1569 t 1szt. 5,49 5,490',\n 'PresidentCamembe120gt 1szt. x4.49 4.490',\n 'PresidentCamembe120gt 1szt. x4,49 4,490',\n 'PresidentCamembe 120gt 1527. x4,49 4.49C',\n 'Borowka arier 1259 tiszt. x5,99 5,990',\n '7DaysRogalik1109 t 1szt. x1,99 1,99C',\n '7DaysRogalik110g t 1szt. x1,99 1.990',\n 'LorenzPopcorn90g t 1szt. x2.39 2.39C',\n 'Avocado szt t 1szt. *5 99.5,99C',\n 'Mandarynki kg t 0,588kg x8,99 5.296',\n 'DoveodzywkaDowłos200H 1szt. x10,99 10,9: A',\n 'Lakierlast H 1szt. x 19 6.99A',\n 'LINDT CZEKOLADA E AX 1 x10,49 10,49A',\n '7427D-01M-XS SWETER DAMSKI Z PASKIEM 1* 69,99 69,99 A',\n 'YK392-00P-ONE TORBA PAPIEROWA 1* 0,70 0,70 A',\n 'Ser TuarChuDeL1250g 1 x2,49 2,490',\n 'Ser 1 gouda 400g [ 1 x7,69 7,690',\n 'SmietMlDol 12 330g 1 x3,49 3,49B',\n 'Bagietka Czos 1659 C 2 x1,99 3,98C',\n 'Baran luz C 1,078 x4,99 5,38C',\n 'MlekowiejPiat2 11 C. 2 x3.19 6.38C',\n 'VastExtraMlDol 2009 3 x4,49 13,470',\n 'buraki Gotowane 500 g C 1 3,79 3,790',\n 'Map Prot Vit2509 C 3 x2,99 8,97C',\n 'Mleko Spoż 2 11 С 4 x2,79 11,160',\n 'KorkN 5mieci Zuszam A 2 x2,99 5.98A',\n 'Rozg3gniaCzarOkr А 1 x7,99 7,99A',\n 'Mydło Luksja95gMIX A 1 x1,29 1,29A',\n 'Mydło Luksja959MIX A 2 x1,29 2,58A',\n 'Mydło Luksja95gMTX A 1 x1,29 1,29A',\n 'MakaronSzlache250g C 2 x2,29 4,58C',\n 'Cytryna luz C 0.870 x7,99 6,95C',\n 'RyżBiałyDługo1kg 1 x3,49 3,49C',\n 'Olej Wyborny 31 C 1 x19,99 19,99C',\n 'Chleb Słowia 3809 C 1 x2,99 2,99C',\n 'Winogrono jas luz 0.784 x7,99 6,26C',\n 'PestoGustoB 1909 B 1 x4,49 4,49B',\n 'Ser Zakopiański 200g 1 x7,99 7,99C',\n 'Napój Mleczn 480nl C 1 x2,69 2,69C',\n 'Napój Mleczn 4801 1 x2,69 2,690',\n 'WKadSol Trus0,751 А 1 x9,99 9,99A',\n 'Twarożewiej Mix200g С 1 x3,19 3,190',\n 'Mak SpagPastani 500g С 1 x2,99 2,99C',\n 'Kar D/PBatomix1000g B 1 x3,99 3,99B',\n 'PalusChlebCien250g 1 x5,99 5,99C',\n 'Upolanki Luz 0,244 x19,90 4,86A',\n 'MydłoLindaMIX1009 2 x0,99 1,98A',\n 'golarki Skino 10sz 1 x4,95 4.95A',\n 'Bud Twój Deser5x40g 1 x1,59 1,59C',\n 'Cukier Biały 1kg B 1 x2,99 2,99B',\n 'Podroby Mix 450g 1 x3,29 3,29C',\n 'Ogonówka kg C 0,596 x19,90 11,86C',\n 'SzynkaWpvač b k kg C 1,774 x14,99 26,59C',\n 'Szczot D Zęb Dent A 1 x4,99 4.99A',\n 'Listerine TotCar500ml A 1 x16,99 16,99A',\n 'Szczot Dentix Mediumx2 A 1x3,69 3,69A',\n 'Boczklędzkralled kg C 0,406 x19.90 8.080',\n 'TYMBARK SOK MULTIVEJ 1 x2,49 2,490',\n 'EKA SCHMITT PŁYTK\\\\AX 1 X24,99 24.99A',\n 'KUPIEC WAFLE RYZOVEJ 1 x2,19 2,190',\n '2004714399999 WODA TOALETO 1*59,90= 59,90 A',\n 'POŚCIEL 0343272 X 2 * 49,99 99,98 A',\n 'KIWI 1 x1,79 1,790',\n 'LIMONKA 3 x1,79 5,37C',\n 'CCHLEB 500g 1*2.69 2.690',\n '1szt. x10,99 10,9: A']"
     },
     "execution_count": 13,
     "metadata": {},
     "output_type": "execute_result"
    }
   ],
   "source": [
    "temp['content'].str.strip().to_list()"
   ]
  },
  {
   "cell_type": "code",
   "execution_count": 14,
   "outputs": [
    {
     "data": {
      "text/plain": "['44,99 0',\n '5,20A',\n '3,00A',\n '2,80A',\n '2,00A',\n '1,60A',\n '44,99 A',\n '4,79A',\n '4.99A',\n '19,99A',\n '2,69A',\n '8.990',\n '19.990',\n '0,99B',\n '0,99B',\n '0,69A',\n '1,798',\n '6,39C',\n '1,798',\n '2,49C',\n '2,290',\n '2.24C',\n '5,990',\n '6,99C',\n '92,790',\n '1,69B',\n '0,86C',\n '0,186',\n '0,650',\n '1,29A',\n '4.99C',\n '5,990',\n '2,190',\n '2,99C',\n '1,690',\n '2.99A',\n '7.70A',\n '8,00C',\n '13,69 A',\n '3,69 C',\n '4,19 C',\n '4,49 C',\n '5,99 C',\n '9,49 C',\n '9,79 C',\n '8,98 A',\n '5.690',\n '2.890',\n '2.596',\n '2.10C',\n '1.990',\n '3.99C',\n '4.990',\n '0.49A',\n '24,99 A',\n '2,89C',\n '5,16C',\n '6,98C',\n '4,990',\n '26,95 B',\n '3,50B',\n '5,00B',\n '49,99 A',\n '21.40A',\n '94.80A',\n '4,78C',\n '3,27C',\n '5,49A',\n '2,15A',\n '5,29A',\n '7,780',\n '2.99C',\n '4.990',\n '4,780',\n '8,98C',\n '3,99A',\n '1,99A',\n '11,97C',\n '14.99A',\n '2,40A',\n '0.900',\n '13.49A',\n '11.798',\n '4.194',\n '3,99A',\n '0,49A',\n '17,970',\n '14,990',\n '5.980',\n '4.980',\n '14,490',\n '5.98C',\n '1,65C',\n '3,38B',\n '3,250',\n '5.18B',\n '3.790',\n '0.310',\n '6,490',\n '6,990',\n '1,860',\n '9.998',\n '69,95A',\n '89,95A',\n '0,25A',\n '2,69A',\n '22,99A',\n '3,29A',\n '0.99B',\n '3,490',\n '3.490',\n '3,996',\n '1,380',\n '1,80C',\n '3,29A',\n '5.990',\n '5,490',\n '4.490',\n '4,490',\n '4.49C',\n '5,990',\n '1,99C',\n '1.990',\n '2.39C',\n '5,99C',\n '5.296',\n '10,90 A',\n '6.99A',\n '10,49A',\n '69,99 A',\n '0,70 A',\n '2,490',\n '7,690',\n '3,49B',\n '3,98C',\n '1,078',\n '6.38C',\n '13,470',\n '3,790',\n '8,97C',\n '11,160',\n '5.98A',\n '7,99A',\n '1,29A',\n '2,58A',\n '1,29A',\n '4,58C',\n '0.870',\n '3,49C',\n '19,99C',\n '2,99C',\n '0.784',\n '4,49B',\n '7,99C',\n '2,69C',\n '2,690',\n '9,99A',\n '3,190',\n '2,99C',\n '3,99B',\n '5,99C',\n '0,244',\n '1,98A',\n '4.95A',\n '1,59C',\n '2,99B',\n '3,29C',\n '0,596',\n '1,774',\n '4.99A',\n '16,99A',\n '3,69A',\n '0,406',\n '2,490',\n '24.99A',\n '2,190',\n '59,90 A',\n '99,98 A',\n None,\n None,\n None,\n None]"
     },
     "execution_count": 14,
     "metadata": {},
     "output_type": "execute_result"
    }
   ],
   "source": [
    "temp['price'].str.strip().to_list()\n"
   ],
   "metadata": {
    "collapsed": false,
    "pycharm": {
     "name": "#%%\n"
    }
   }
  },
  {
   "cell_type": "code",
   "execution_count": 15,
   "outputs": [
    {
     "name": "stdout",
     "output_type": "stream",
     "text": [
      "VICHY Dercos szapp/łup wrazliwy. 17841A 1op 44,99 : 44,99 A\n",
      "BLOK BIUROWY A4 100K TOP COLOR 2.0 1SZT x5,20 \n",
      "ZESZYT AS 60K KRAFT 1SZT X3,00 \n",
      "ZESZYT A5 32K PP TOP 1SZT X2,80 \n",
      "KOPERTY DO ZAPROSZEN METALICZNE 2SZT 1,00 \n",
      "KOPERTA WIZYTOWA 2SZT X0,80 \n",
      "VICHY Dercos Silip p/lup wrazliwy. 17841A 1op * 44,99 \n",
      "LIPTON ICE TEA GREEN 1.5L 1 x4,79 \n",
      "PIHO AMBER PSZENICZNIAK 1 x4,99 \n",
      "HIND SE CARLO ROSSI ROSE 1 x19,99 \n",
      "ZOZOLE HELLO ZELO RAIN.75 1 x2,69 \n",
      "BON RI RYZ BASMATI 1 KG 1 x8,99 \n",
      "MONINI OLIWA Z OLIW.500ML 1 x19,99 \n",
      "PAPRYKA SŁODKA MIEL. 20 G 1 x0,99 \n",
      "PAPRYKA OSTRA MIELONA 20G 1 x0,99 \n",
      "REKLAMOWKA Z USZAMI 1 x0,69 \n",
      "KAMIS PAPRYKA WEDZ. 20G 1 x1,79 \n",
      "CHEDDAR MATURE PL 160G 1 x6,39 \n",
      "KAMIS KHIN RZYM 15 G 1 x1,79 \n",
      "KUKURYDZA 340G 1 x2,49 \n",
      "FASOLA CZER. KIDNEY 410 G 1 x2.29 \n",
      "MANDARYNKI - KG 0,28 x7,99 \n",
      "ZIOŁA W DONICZCE 1 x5,99 \n",
      "POMIDORY SUSZ W OLEJU280G 1 x6,99 \n",
      "SHIETANA 182 400 G 1 x2,7\n",
      "PRZYPRAWA DO KAWY MIX 20G 1 x1,69 \n",
      "BANANY - KG 0,172 x4,99 \n",
      "PAPRYKA CZERWONA KG 0,186 x6,99 1,30C\n",
      "CEBULA ZOŁTA KG 0,162 x3,99 \n",
      "DR. OETKER DROZDZE 7 G 1 x1,29 \n",
      "CIECIERZ/SOCZEW.Z/CZ.500G 1 x4,99 \n",
      "CZOSNEK 250G OPAK 1 x5,99 \n",
      "MĄKA PSZENNA T.450, 1 KG 1 x2,19 \n",
      "PUDL ISZKI KONCENTRAT 200G 1 x2,99 \n",
      "KAMIS OREGANO 10 G 1 x1,69 \n",
      "SZCZOTECZKA D/ZEBOW 12.99 \n",
      "CUKIERKI MIX 1KG 0.385*19.99 \n",
      "2gałki Lodów 1 x8,00 \n",
      "A_PŁYN DO PŁ UST CO 1szt*13,69= \n",
      "CCHIPSY WIEJSKIE Z 1szt*3,69= \n",
      "CSOK TYMBARK 1L MU 1szt*4, 19= \n",
      "CPOMIDORY PUDLISZK 1szt*4,49= \n",
      "CFIT&EASY PARTY 1szt*5,99= \n",
      "CPIZZA FELICIANA 3 1szt*9,49= \n",
      "CSER TWARDY FORMAG 1szt*9,79= \n",
      "ATORBA ELECTROLUX 2szt*4,49= \n",
      "BULKI MLECZNE 400G 15.69 \n",
      "CHLEB RAZOWY 450G 1.2.89 \n",
      "CIAST OWSIA/SEZ 1856 1.2.59 \n",
      "BUŁKA KAJZERKA 60G 740.30 \n",
      "RZODKIEWKA SZT 181.99 \n",
      "KIELBASA KRAKOWS 90G 1*3.99 \n",
      "SALATA LODOWA SZT. 1*4.99 \n",
      "REKLAMOHKA 35L 1*0.49 \n",
      "5884511ZABAWKA NIEMOWLĘCA A 1szt.*24,99= \n",
      "MLEKO POLSKIE 3,2 11 C 1 x2,89 \n",
      "GKGrochGrzanknor 21 4 x1,29 \n",
      "Zappieczserszy 1509 С 2 x3,49 \n",
      "Sok TiobraSadoő,751 C 1 x4,99 \n",
      "Lix krople do uszu, roztwór 7 g. 12738 B 1op * 26,95 = \n",
      "*Cheeseburger 1 -3.50 \n",
      "*Frytki Srednie 1 5,00 \n",
      "A_WALIZKA EVA 64 CM 1*49,99= \n",
      "sko Isk. LEN 18X24 1.000szt. 21.40 \n",
      "Maku.K. LEN 40x50 2.000szt. 47.40 \n",
      "BAGIETKA CZOSNK. WW 165G 2 x2,39 \n",
      "TORCIK KAKAOWY 38 G 3 x1,09 \n",
      "CZEKOLADOWE KRĄZKI 2006 1 x5,49 \n",
      "CHUSTECZKI HIC. 10X10 1 X2,15 \n",
      "CLEANIC NATURALS WAX 1 x5,29 \n",
      "WkładkiFeninabiszt 0 2 x3.89 \n",
      "Chrupki Maczuki 1309 C 1X2,99 \n",
      "Sok TłobraSadou.751 C. 1x4,99 \n",
      "Bagietka Czos 1659 C. 2x2,39 \n",
      "PodpultFresProszt 2 x4,49 \n",
      "PianotworPINIOMalin A 1x3,99 \n",
      "MydłLindakart 100g A 1x1,99 \n",
      "Zupa k z dyni 4504 C 3x3,99 \n",
      "Tarka Plas Poje zi 1 x14.99 \n",
      "Napoj peppsi nax sleek 0.331 7598 1szt x2,40 \n",
      "CBUŁKA KAJZERKA 60G 3*0.30 \n",
      "ALIKIER PIG 0,2L SOP *13.49 \n",
      "AWODKA KRUPNIK 0,2L 1*11.79 \n",
      "Papier QueenBiat X8 A 1x4.19 \n",
      "Recznik Milla x2 A 1x3,99 \n",
      "Torba T-SHIRT A 1x0,49 \n",
      "Szynka kons 2009 C 3x5.99 \n",
      "Mn top up wol800g C 1 x14,99 \n",
      "MakaronPennePa500g C 2 x2,99 \n",
      "Mleko UH' 3.2 11 2 x2,49 \n",
      "Jajalo HybM20szt C 1 x14.49 \n",
      "Pie uszat Kope 1539 2 x2.99 \n",
      "Kost Culineo 1209 1 x1,65 \n",
      "Prz Piep Kanis 22 В 2 x1,69 \n",
      "Koskini 1359 1 x3,25 \n",
      "PonNaZapSzynkWin359 B 2 x2.59 \n",
      "ZupagulaszKnorrol 9 C 1 x3,79 \n",
      "Papryka Słodka Czeru C 0.310 x9,99 3.100\n",
      "Ser z. Swiat. 3009 C 1 x6,49 \n",
      "Mandarynka 1kg C 1 x6,99 \n",
      "Kapusta biała luz 1,860 x2.49 4.630\n",
      "MajoneWiniar 900 ml B 1 x9.99 \n",
      "22002 Bielizna chlopieca/neska 5P Colorf 1x69,95 \n",
      "34632 Bluzy chlopiece HD Raised Grey Rx! 1x89,95 \n",
      "37800 Bag for Accessories 1x0,25 \n",
      "Zozole Trusk75g H 1szt. x2,69 \n",
      "MogenDavMáscwino0,75 H# 1szt. *22.99 \n",
      "Ni mm2Smiejzelki 100g # 1szt. 3,29 \n",
      "OranzHelleWProszczer i 1szt. x0,99 \n",
      "BracSadJal March0.251 t 1szt. x3,49 \n",
      "BracSadlocz Jabo 25 t 1szt. x3,49 \n",
      "PaolaSyropMalCyt0,43 i 1szt. x3,99 \n",
      "Bułka gryczana 80g t 2szt. x0,69 \n",
      "Bułka z serem 809 t 2szt. x0,90 \n",
      "Ni mm2Smiejzelki 1009 H 1szt. x3,29 \n",
      "LaysP2Plagurtz02009 t 1szt. 35,99 \n",
      "MilkaCiastkaSens1569 t 1szt. 5,49 \n",
      "PresidentCamembe120gt 1szt. x4.49 \n",
      "PresidentCamembe120gt 1szt. x4,49 \n",
      "PresidentCamembe 120gt 1527. x4,49 \n",
      "Borowka arier 1259 tiszt. x5,99 \n",
      "7DaysRogalik1109 t 1szt. x1,99 \n",
      "7DaysRogalik110g t 1szt. x1,99 \n",
      "LorenzPopcorn90g t 1szt. x2.39 \n",
      "Avocado szt t 1szt. *5 99.\n",
      "Mandarynki kg t 0,588kg x8,99 \n",
      "DoveodzywkaDowłos200H 1szt. x10,99 10,9: A\n",
      "Lakierlast H 1szt. x 19 \n",
      "LINDT CZEKOLADA E AX 1 x10,49 \n",
      "7427D-01M-XS SWETER DAMSKI Z PASKIEM 1* 69,99 \n",
      "YK392-00P-ONE TORBA PAPIEROWA 1* 0,70 \n",
      "Ser TuarChuDeL1250g 1 x2,49 \n",
      "Ser 1 gouda 400g [ 1 x7,69 \n",
      "SmietMlDol 12 330g 1 x3,49 \n",
      "Bagietka Czos 1659 C 2 x1,99 \n",
      "Baran luz C 1,078 x4,99 5,38C\n",
      "MlekowiejPiat2 11 C. 2 x3.19 \n",
      "VastExtraMlDol 2009 3 x4,49 \n",
      "buraki Gotowane 500 g C 1 3,79 \n",
      "Map Prot Vit2509 C 3 x2,99 \n",
      "Mleko Spoż 2 11 С 4 x2,79 \n",
      "KorkN 5mieci Zuszam A 2 x2,99 \n",
      "Rozg3gniaCzarOkr А 1 x7,99 \n",
      "Mydło Luksja95gMIX A 1 x1,29 \n",
      "Mydło Luksja959MIX A 2 x1,29 \n",
      "Mydło Luksja95gMTX A 1 x1,29 \n",
      "MakaronSzlache250g C 2 x2,29 \n",
      "Cytryna luz C 0.870 x7,99 6,95C\n",
      "RyżBiałyDługo1kg 1 x3,49 \n",
      "Olej Wyborny 31 C 1 x19,99 \n",
      "Chleb Słowia 3809 C 1 x2,99 \n",
      "Winogrono jas luz 0.784 x7,99 6,26C\n",
      "PestoGustoB 1909 B 1 x4,49 \n",
      "Ser Zakopiański 200g 1 x7,99 \n",
      "Napój Mleczn 480nl C 1 x2,69 \n",
      "Napój Mleczn 4801 1 x2,69 \n",
      "WKadSol Trus0,751 А 1 x9,99 \n",
      "Twarożewiej Mix200g С 1 x3,19 \n",
      "Mak SpagPastani 500g С 1 x2,99 \n",
      "Kar D/PBatomix1000g B 1 x3,99 \n",
      "PalusChlebCien250g 1 x5,99 \n",
      "Upolanki Luz 0,244 x19,90 4,86A\n",
      "MydłoLindaMIX1009 2 x0,99 \n",
      "golarki Skino 10sz 1 x4,95 \n",
      "Bud Twój Deser5x40g 1 x1,59 \n",
      "Cukier Biały 1kg B 1 x2,99 \n",
      "Podroby Mix 450g 1 x3,29 \n",
      "Ogonówka kg C 0,596 x19,90 11,86C\n",
      "SzynkaWpvač b k kg C 1,774 x14,99 26,59C\n",
      "Szczot D Zęb Dent A 1 x4,99 \n",
      "Listerine TotCar500ml A 1 x16,99 \n",
      "Szczot Dentix Mediumx2 A 1x3,69 \n",
      "Boczklędzkralled kg C 0,406 x19.90 8.080\n",
      "TYMBARK SOK MULTIVEJ 1 x2,49 \n",
      "EKA SCHMITT PŁYTK\\AX 1 X24,99 \n",
      "KUPIEC WAFLE RYZOVEJ 1 x2,19 \n",
      "2004714399999 WODA TOALETO 1*59,90= \n",
      "POŚCIEL 0343272 X 2 * 49,99 \n"
     ]
    },
    {
     "ename": "TypeError",
     "evalue": "removesuffix() argument must be str, not None",
     "output_type": "error",
     "traceback": [
      "\u001B[1;31m---------------------------------------------------------------------------\u001B[0m",
      "\u001B[1;31mTypeError\u001B[0m                                 Traceback (most recent call last)",
      "Input \u001B[1;32mIn [15]\u001B[0m, in \u001B[0;36m<cell line: 1>\u001B[1;34m()\u001B[0m\n\u001B[0;32m      1\u001B[0m \u001B[38;5;28;01mfor\u001B[39;00m product, price \u001B[38;5;129;01min\u001B[39;00m \u001B[38;5;28mzip\u001B[39m(temp[\u001B[38;5;124m'\u001B[39m\u001B[38;5;124mcontent\u001B[39m\u001B[38;5;124m'\u001B[39m]\u001B[38;5;241m.\u001B[39mstr\u001B[38;5;241m.\u001B[39mstrip()\u001B[38;5;241m.\u001B[39mto_list(), temp[\u001B[38;5;124m'\u001B[39m\u001B[38;5;124mprice\u001B[39m\u001B[38;5;124m'\u001B[39m]\u001B[38;5;241m.\u001B[39mstr\u001B[38;5;241m.\u001B[39mstrip()\u001B[38;5;241m.\u001B[39mto_list()):\n\u001B[1;32m----> 2\u001B[0m     \u001B[38;5;28mprint\u001B[39m(\u001B[43mproduct\u001B[49m\u001B[38;5;241;43m.\u001B[39;49m\u001B[43mremovesuffix\u001B[49m\u001B[43m(\u001B[49m\u001B[43mprice\u001B[49m\u001B[43m)\u001B[49m)\n",
      "\u001B[1;31mTypeError\u001B[0m: removesuffix() argument must be str, not None"
     ]
    }
   ],
   "source": [
    "for product, price in zip(temp['content'].str.strip().to_list(), temp['price'].str.strip().to_list()):\n",
    "    print(product.removesuffix(price))\n"
   ],
   "metadata": {
    "collapsed": false,
    "pycharm": {
     "name": "#%%\n"
    }
   }
  },
  {
   "cell_type": "code",
   "execution_count": null,
   "outputs": [],
   "source": [],
   "metadata": {
    "collapsed": false,
    "pycharm": {
     "name": "#%%\n"
    }
   }
  }
 ],
 "metadata": {
  "interpreter": {
   "hash": "14dd958b22dbe5447d0654317a237f86b400c24252407a77e845e69303b48bfe"
  },
  "kernelspec": {
   "display_name": "Python 3.9.9 64-bit ('recipe_recognition_env': venv)",
   "language": "python",
   "name": "python3"
  },
  "language_info": {
   "codemirror_mode": {
    "name": "ipython",
    "version": 3
   },
   "file_extension": ".py",
   "mimetype": "text/x-python",
   "name": "python",
   "nbconvert_exporter": "python",
   "pygments_lexer": "ipython3",
   "version": "3.9.9"
  },
  "orig_nbformat": 4
 },
 "nbformat": 4,
 "nbformat_minor": 2
}