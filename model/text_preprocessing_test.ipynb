{
 "cells": [
  {
   "cell_type": "code",
   "execution_count": 69,
   "metadata": {},
   "outputs": [],
   "source": [
    "import pandas as pd\n",
    "from pathlib import Path\n",
    "import re\n",
    "import fasttext\n",
    "import csv"
   ]
  },
  {
   "cell_type": "markdown",
   "metadata": {},
   "source": [
    "# Data import and introduction"
   ]
  },
  {
   "cell_type": "code",
   "execution_count": 70,
   "metadata": {},
   "outputs": [
    {
     "name": "stdout",
     "output_type": "stream",
     "text": [
      "Percent of \"ones\" in dataset 36.36%\n"
     ]
    }
   ],
   "source": [
    "file_path = Path('.').resolve() / 'data' / 'recipt_content.xlsx'\n",
    "recipe_content = pd.read_excel(file_path).dropna()\n",
    "df = recipe_content.copy()\n",
    "df['score'] = df['score'].astype(str)\n",
    "zeros, ones = df['score'].value_counts().values\n",
    "print(f'Percent of \"ones\" in dataset {100*ones/zeros:.2f}%')"
   ]
  },
  {
   "cell_type": "code",
   "execution_count": 71,
   "metadata": {},
   "outputs": [
    {
     "data": {
      "text/html": [
       "<div>\n",
       "<style scoped>\n",
       "    .dataframe tbody tr th:only-of-type {\n",
       "        vertical-align: middle;\n",
       "    }\n",
       "\n",
       "    .dataframe tbody tr th {\n",
       "        vertical-align: top;\n",
       "    }\n",
       "\n",
       "    .dataframe thead th {\n",
       "        text-align: right;\n",
       "    }\n",
       "</style>\n",
       "<table border=\"1\" class=\"dataframe\">\n",
       "  <thead>\n",
       "    <tr style=\"text-align: right;\">\n",
       "      <th></th>\n",
       "      <th>text</th>\n",
       "      <th>score</th>\n",
       "    </tr>\n",
       "  </thead>\n",
       "  <tbody>\n",
       "    <tr>\n",
       "      <th>0</th>\n",
       "      <td>Biscuska Hinc Spółka Jawna</td>\n",
       "      <td>0.0</td>\n",
       "    </tr>\n",
       "    <tr>\n",
       "      <th>1</th>\n",
       "      <td>ul. US. Rosochy 47</td>\n",
       "      <td>0.0</td>\n",
       "    </tr>\n",
       "    <tr>\n",
       "      <th>2</th>\n",
       "      <td>27-Www ustrowiec Świętokrzyski</td>\n",
       "      <td>0.0</td>\n",
       "    </tr>\n",
       "    <tr>\n",
       "      <th>3</th>\n",
       "      <td>lipieka Gemini</td>\n",
       "      <td>0.0</td>\n",
       "    </tr>\n",
       "    <tr>\n",
       "      <th>4</th>\n",
       "      <td>ul. Smugowa 6</td>\n",
       "      <td>0.0</td>\n",
       "    </tr>\n",
       "  </tbody>\n",
       "</table>\n",
       "</div>"
      ],
      "text/plain": [
       "                              text score\n",
       "0      Biscuska Hinc Spółka Jawna    0.0\n",
       "1              ul. US. Rosochy 47    0.0\n",
       "2  27-Www ustrowiec Świętokrzyski    0.0\n",
       "3                  lipieka Gemini    0.0\n",
       "4                   ul. Smugowa 6    0.0"
      ]
     },
     "execution_count": 71,
     "metadata": {},
     "output_type": "execute_result"
    }
   ],
   "source": [
    "df.head()"
   ]
  },
  {
   "cell_type": "markdown",
   "metadata": {},
   "source": [
    "# Data manipulation and number masking"
   ]
  },
  {
   "cell_type": "code",
   "execution_count": 72,
   "metadata": {},
   "outputs": [],
   "source": [
    "def mask_numbers(value):\n",
    "    return re.sub(r'[0-9]+?','q',value)\n",
    "\n",
    "def return_product_and_price(text):\n",
    "    if re.search(r'[^\\-]\\s\\d+[,.]+?\\d\\d\\s?[0OABC]\\s',text) and len(text) > 25:\n",
    "        product, price = re.findall(r'(.+)(\\d+[,. ]+?\\d+\\s?[ABC0O]{1})$', text.strip())[0]\n",
    "        formatted_price = price.strip().replace(\" \",'')[:-1]\n",
    "        return mask_numbers(product) + 'qqqqqq', formatted_price\n",
    "    return mask_numbers(text), None\n",
    "    \n",
    "df['masaked_text'] = df['text'].apply(return_product_and_price).str[0]\n",
    "df['price'] = df['text'].apply(return_product_and_price).str[1]"
   ]
  },
  {
   "cell_type": "markdown",
   "metadata": {},
   "source": [
    "# Model setup and data split"
   ]
  },
  {
   "cell_type": "code",
   "execution_count": 73,
   "metadata": {},
   "outputs": [],
   "source": [
    "from sklearn.model_selection import train_test_split\n",
    "from gensim.utils import simple_preprocess\n",
    "X = df[['masaked_text','text']]\n",
    "Y = df['score']\n",
    "X_train, X_test, y_train, y_test = train_test_split(X, Y, test_size=0.30, random_state=42)\n",
    "\n",
    "dataset = pd.DataFrame({'text':X_train['masaked_text'],'score':y_train})\n",
    "ds = pd.DataFrame({'text':X_test['masaked_text'],'score':y_test})\n",
    "\n",
    "# NLP Preprocess\n",
    "dataset.iloc[:, 0] = dataset.iloc[:, 0].apply(lambda x: ' '.join(simple_preprocess(x)))\n",
    "ds.iloc[:, 0] = ds.iloc[:, 0].apply(lambda x: ' '.join(simple_preprocess(x)))\n",
    "\n",
    "# Prefixing each row of the category column with '__label__'\n",
    "dataset.iloc[:, 1] = dataset.iloc[:, 1].apply(lambda x: '__label__' + x)\n",
    "ds.iloc[:, 1] = ds.iloc[:, 1].apply(lambda x: '__label__' + x)"
   ]
  },
  {
   "cell_type": "code",
   "execution_count": 74,
   "metadata": {},
   "outputs": [],
   "source": [
    "# Saving the dataframes as a text file to train/test the classifier\n",
    "train_path = (Path('data') / 'train.txt').resolve()\n",
    "test_path = (Path('data') / 'test.txt').resolve()\n",
    "\n",
    "dataset[['text', 'score']].to_csv(train_path, \n",
    "                                          index = False, \n",
    "                                          sep = ' ',\n",
    "                                          header = None, \n",
    "                                          quoting = csv.QUOTE_NONE, \n",
    "                                          quotechar = \"\", \n",
    "                                          escapechar = \" \")\n",
    "\n",
    "ds[['text', 'score']].to_csv(test_path, \n",
    "                                     index = False, \n",
    "                                     sep = ' ',\n",
    "                                     header = None, \n",
    "                                     quoting = csv.QUOTE_NONE, \n",
    "                                     quotechar = \"\", \n",
    "                                     escapechar = \" \")"
   ]
  },
  {
   "cell_type": "code",
   "execution_count": 75,
   "metadata": {},
   "outputs": [
    {
     "data": {
      "text/plain": [
       "(203, 0.9507389162561576, 0.9507389162561576)"
      ]
     },
     "execution_count": 75,
     "metadata": {},
     "output_type": "execute_result"
    }
   ],
   "source": [
    "# Training the fastText classifier\n",
    "model = fasttext.train_supervised(str(train_path), wordNgrams = 2)\n",
    "\n",
    "# Evaluating performance on the entire test file\n",
    "model.test(str(test_path))                      "
   ]
  },
  {
   "cell_type": "markdown",
   "metadata": {},
   "source": [
    "# Model results"
   ]
  },
  {
   "cell_type": "code",
   "execution_count": 76,
   "metadata": {},
   "outputs": [],
   "source": [
    "def evaluate_model(model_output):\n",
    "    thresh = 0.9\n",
    "    score = model_output[0][0][-1]\n",
    "    accuracy = model_output[1][0]\n",
    "    if score == '1' and accuracy > thresh:\n",
    "        return 1\n",
    "    if score == '1' and accuracy < thresh:\n",
    "        return 0\n",
    "    if score == '0' and accuracy > thresh:\n",
    "        return 0\n",
    "    if score == '0' and accuracy < thresh:\n",
    "        return 1\n",
    "\n",
    "ds['predictions'] = [model.predict(text) for text in ds['text'].str.lower().tolist()]\n",
    "ds['predicted_value'] = ds['predictions'].apply(evaluate_model)"
   ]
  },
  {
   "cell_type": "code",
   "execution_count": 77,
   "metadata": {},
   "outputs": [
    {
     "name": "stdout",
     "output_type": "stream",
     "text": [
      "              precision    recall  f1-score   support\n",
      "\n",
      "           0       0.80      0.88      0.84       151\n",
      "           1       0.51      0.37      0.43        52\n",
      "\n",
      "    accuracy                           0.75       203\n",
      "   macro avg       0.66      0.62      0.63       203\n",
      "weighted avg       0.73      0.75      0.73       203\n",
      "\n",
      "[[133  18]\n",
      " [ 33  19]]\n"
     ]
    }
   ],
   "source": [
    "from sklearn.metrics import classification_report, confusion_matrix\n",
    "predictions = ds['predictions'].apply(evaluate_model).values.reshape((-1,1))\n",
    "score =  ds['score'].str.replace('__label__','').map(lambda x: int(float(x))).values.reshape((-1,1))\n",
    "print(classification_report(score,predictions))\n",
    "print(confusion_matrix(score, predictions))"
   ]
  },
  {
   "cell_type": "markdown",
   "metadata": {},
   "source": [
    "As this model is not efficient yet its maybe better to use different approach"
   ]
  },
  {
   "cell_type": "code",
   "execution_count": 78,
   "metadata": {},
   "outputs": [
    {
     "name": "stdout",
     "output_type": "stream",
     "text": [
      "              precision    recall  f1-score   support\n",
      "\n",
      "           0       0.99      1.00      0.99       151\n",
      "           1       1.00      0.96      0.98        52\n",
      "\n",
      "    accuracy                           0.99       203\n",
      "   macro avg       0.99      0.98      0.99       203\n",
      "weighted avg       0.99      0.99      0.99       203\n",
      "\n",
      "[[151   0]\n",
      " [  2  50]]\n"
     ]
    }
   ],
   "source": [
    "# use of custom function to determine whather element has product properties or not\n",
    "def is_product(text):\n",
    "    if re.search(r'\\s\\d+[,.]+?\\d\\d\\s?[0OABC846]\\s', text) and len(text) > 25:\n",
    "        return 1\n",
    "    return 0\n",
    "\n",
    "X_test['determined_by_re'] = X_test['text'].apply(is_product)\n",
    "print(classification_report(y_test.astype(float).astype(int),X_test['determined_by_re']))\n",
    "print(confusion_matrix(y_test.astype(float).astype(int),X_test['determined_by_re']))"
   ]
  }
 ],
 "metadata": {
  "interpreter": {
   "hash": "14dd958b22dbe5447d0654317a237f86b400c24252407a77e845e69303b48bfe"
  },
  "kernelspec": {
   "display_name": "Python 3.9.9 64-bit ('recipe_recognition_env': venv)",
   "language": "python",
   "name": "python3"
  },
  "language_info": {
   "codemirror_mode": {
    "name": "ipython",
    "version": 3
   },
   "file_extension": ".py",
   "mimetype": "text/x-python",
   "name": "python",
   "nbconvert_exporter": "python",
   "pygments_lexer": "ipython3",
   "version": "3.9.9"
  },
  "orig_nbformat": 4
 },
 "nbformat": 4,
 "nbformat_minor": 2
}
