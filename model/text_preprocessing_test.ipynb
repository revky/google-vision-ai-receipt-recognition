{
 "cells": [
  {
   "cell_type": "code",
   "execution_count": 1,
   "metadata": {},
   "outputs": [],
   "source": [
    "import pandas as pd\n",
    "from pathlib import Path\n",
    "import re\n",
    "import fasttext\n",
    "import csv"
   ]
  },
  {
   "cell_type": "markdown",
   "metadata": {},
   "source": [
    "# Data import and introduction"
   ]
  },
  {
   "cell_type": "code",
   "execution_count": 2,
   "metadata": {},
   "outputs": [
    {
     "name": "stdout",
     "output_type": "stream",
     "text": [
      "Percent of \"ones\" in dataset 36.36%\n"
     ]
    }
   ],
   "source": [
    "file_path = Path('.').resolve() / 'data' / 'recipt_content.xlsx'\n",
    "recipe_content = pd.read_excel(file_path).dropna()\n",
    "df = recipe_content.copy()\n",
    "df['score'] = df['score'].astype(str)\n",
    "zeros, ones = df['score'].value_counts().values\n",
    "print(f'Percent of \"ones\" in dataset {100*ones/zeros:.2f}%')"
   ]
  },
  {
   "cell_type": "code",
   "execution_count": 3,
   "metadata": {},
   "outputs": [
    {
     "data": {
      "text/html": [
       "<div>\n",
       "<style scoped>\n",
       "    .dataframe tbody tr th:only-of-type {\n",
       "        vertical-align: middle;\n",
       "    }\n",
       "\n",
       "    .dataframe tbody tr th {\n",
       "        vertical-align: top;\n",
       "    }\n",
       "\n",
       "    .dataframe thead th {\n",
       "        text-align: right;\n",
       "    }\n",
       "</style>\n",
       "<table border=\"1\" class=\"dataframe\">\n",
       "  <thead>\n",
       "    <tr style=\"text-align: right;\">\n",
       "      <th></th>\n",
       "      <th>text</th>\n",
       "      <th>score</th>\n",
       "    </tr>\n",
       "  </thead>\n",
       "  <tbody>\n",
       "    <tr>\n",
       "      <th>0</th>\n",
       "      <td>Biscuska Hinc Spółka Jawna</td>\n",
       "      <td>0.0</td>\n",
       "    </tr>\n",
       "    <tr>\n",
       "      <th>1</th>\n",
       "      <td>ul. US. Rosochy 47</td>\n",
       "      <td>0.0</td>\n",
       "    </tr>\n",
       "    <tr>\n",
       "      <th>2</th>\n",
       "      <td>27-Www ustrowiec Świętokrzyski</td>\n",
       "      <td>0.0</td>\n",
       "    </tr>\n",
       "    <tr>\n",
       "      <th>3</th>\n",
       "      <td>lipieka Gemini</td>\n",
       "      <td>0.0</td>\n",
       "    </tr>\n",
       "    <tr>\n",
       "      <th>4</th>\n",
       "      <td>ul. Smugowa 6</td>\n",
       "      <td>0.0</td>\n",
       "    </tr>\n",
       "  </tbody>\n",
       "</table>\n",
       "</div>"
      ],
      "text/plain": [
       "                              text score\n",
       "0      Biscuska Hinc Spółka Jawna    0.0\n",
       "1              ul. US. Rosochy 47    0.0\n",
       "2  27-Www ustrowiec Świętokrzyski    0.0\n",
       "3                  lipieka Gemini    0.0\n",
       "4                   ul. Smugowa 6    0.0"
      ]
     },
     "execution_count": 3,
     "metadata": {},
     "output_type": "execute_result"
    }
   ],
   "source": [
    "df.head()"
   ]
  },
  {
   "cell_type": "markdown",
   "metadata": {},
   "source": [
    "# Data manipulation and number masking"
   ]
  },
  {
   "cell_type": "code",
   "execution_count": 4,
   "metadata": {},
   "outputs": [],
   "source": [
    "# extract price to another column bc it can be usefull later on, and mask all numbers with 'q' as i found it, as one of best letters to use here\n",
    "def mask_numbers(value):\n",
    "    return re.sub(r'[0-9]+?','q',value)\n",
    "\n",
    "def return_product_and_price(text):\n",
    "    if re.search(r'\\d+[,.]+?\\d\\d\\s?[0OABC]\\s',text) and len(text) > 25:\n",
    "        product, price = re.findall(r'(.*?)(\\d+[,. ]+?\\d+\\s?[ABC0O]{1})$', text.strip())[0]\n",
    "        formatted_price = price.strip().replace(\" \",'')[:-1]\n",
    "        return mask_numbers(text), formatted_price\n",
    "    return mask_numbers(text), None\n",
    "    \n",
    "df['masaked_text'] = df['text'].apply(return_product_and_price).str[0]\n",
    "df['price'] = df['text'].apply(return_product_and_price).str[1]"
   ]
  },
  {
   "cell_type": "code",
   "execution_count": 5,
   "metadata": {},
   "outputs": [
    {
     "data": {
      "text/html": [
       "<div>\n",
       "<style scoped>\n",
       "    .dataframe tbody tr th:only-of-type {\n",
       "        vertical-align: middle;\n",
       "    }\n",
       "\n",
       "    .dataframe tbody tr th {\n",
       "        vertical-align: top;\n",
       "    }\n",
       "\n",
       "    .dataframe thead th {\n",
       "        text-align: right;\n",
       "    }\n",
       "</style>\n",
       "<table border=\"1\" class=\"dataframe\">\n",
       "  <thead>\n",
       "    <tr style=\"text-align: right;\">\n",
       "      <th></th>\n",
       "      <th>text</th>\n",
       "      <th>score</th>\n",
       "      <th>masaked_text</th>\n",
       "      <th>price</th>\n",
       "    </tr>\n",
       "  </thead>\n",
       "  <tbody>\n",
       "    <tr>\n",
       "      <th>0</th>\n",
       "      <td>Biscuska Hinc Spółka Jawna</td>\n",
       "      <td>0.0</td>\n",
       "      <td>Biscuska Hinc Spółka Jawna</td>\n",
       "      <td>None</td>\n",
       "    </tr>\n",
       "    <tr>\n",
       "      <th>1</th>\n",
       "      <td>ul. US. Rosochy 47</td>\n",
       "      <td>0.0</td>\n",
       "      <td>ul. US. Rosochy qq</td>\n",
       "      <td>None</td>\n",
       "    </tr>\n",
       "    <tr>\n",
       "      <th>2</th>\n",
       "      <td>27-Www ustrowiec Świętokrzyski</td>\n",
       "      <td>0.0</td>\n",
       "      <td>qq-Www ustrowiec Świętokrzyski</td>\n",
       "      <td>None</td>\n",
       "    </tr>\n",
       "    <tr>\n",
       "      <th>3</th>\n",
       "      <td>lipieka Gemini</td>\n",
       "      <td>0.0</td>\n",
       "      <td>lipieka Gemini</td>\n",
       "      <td>None</td>\n",
       "    </tr>\n",
       "    <tr>\n",
       "      <th>4</th>\n",
       "      <td>ul. Smugowa 6</td>\n",
       "      <td>0.0</td>\n",
       "      <td>ul. Smugowa q</td>\n",
       "      <td>None</td>\n",
       "    </tr>\n",
       "  </tbody>\n",
       "</table>\n",
       "</div>"
      ],
      "text/plain": [
       "                              text score                     masaked_text  \\\n",
       "0      Biscuska Hinc Spółka Jawna    0.0      Biscuska Hinc Spółka Jawna    \n",
       "1              ul. US. Rosochy 47    0.0              ul. US. Rosochy qq    \n",
       "2  27-Www ustrowiec Świętokrzyski    0.0  qq-Www ustrowiec Świętokrzyski    \n",
       "3                  lipieka Gemini    0.0                  lipieka Gemini    \n",
       "4                   ul. Smugowa 6    0.0                   ul. Smugowa q    \n",
       "\n",
       "  price  \n",
       "0  None  \n",
       "1  None  \n",
       "2  None  \n",
       "3  None  \n",
       "4  None  "
      ]
     },
     "execution_count": 5,
     "metadata": {},
     "output_type": "execute_result"
    }
   ],
   "source": [
    "df.head(5)"
   ]
  },
  {
   "cell_type": "markdown",
   "metadata": {},
   "source": [
    "# Model setup and data split"
   ]
  },
  {
   "cell_type": "code",
   "execution_count": 6,
   "metadata": {},
   "outputs": [],
   "source": [
    "from sklearn.model_selection import train_test_split\n",
    "from gensim.utils import simple_preprocess\n",
    "X = df[['masaked_text','text']]\n",
    "Y = df['score']\n",
    "X_train, X_test, y_train, y_test = train_test_split(X, Y, test_size=0.25, random_state=42)\n",
    "\n",
    "dataset = pd.DataFrame({'text':X_train['masaked_text'],'score':y_train})\n",
    "ds = pd.DataFrame({'text':X_test['masaked_text'],'score':y_test})\n",
    "\n",
    "# NLP Preprocess\n",
    "dataset.iloc[:, 0] = dataset.iloc[:, 0].apply(lambda x: ' '.join(simple_preprocess(x)))\n",
    "ds.iloc[:, 0] = ds.iloc[:, 0].apply(lambda x: ' '.join(simple_preprocess(x)))\n",
    "\n",
    "# Prefixing each row of the category column with '__label__'\n",
    "dataset.iloc[:, 1] = dataset.iloc[:, 1].apply(lambda x: '__label__' + x)\n",
    "ds.iloc[:, 1] = ds.iloc[:, 1].apply(lambda x: '__label__' + x)"
   ]
  },
  {
   "cell_type": "code",
   "execution_count": 7,
   "metadata": {},
   "outputs": [],
   "source": [
    "# Saving the dataframes as a text file to train/test the classifier\n",
    "train_path = (Path('data') / 'train.txt').resolve()\n",
    "test_path = (Path('data') / 'test.txt').resolve()\n",
    "\n",
    "dataset[['text', 'score']].to_csv(train_path, \n",
    "                                          index = False, \n",
    "                                          sep = ' ',\n",
    "                                          header = None, \n",
    "                                          quoting = csv.QUOTE_NONE, \n",
    "                                          quotechar = \"\", \n",
    "                                          escapechar = \" \")\n",
    "\n",
    "ds[['text', 'score']].to_csv(test_path, \n",
    "                                     index = False, \n",
    "                                     sep = ' ',\n",
    "                                     header = None, \n",
    "                                     quoting = csv.QUOTE_NONE, \n",
    "                                     quotechar = \"\", \n",
    "                                     escapechar = \" \")"
   ]
  },
  {
   "cell_type": "code",
   "execution_count": 8,
   "metadata": {},
   "outputs": [
    {
     "data": {
      "text/plain": [
       "(169, 0.9467455621301775, 0.9467455621301775)"
      ]
     },
     "execution_count": 8,
     "metadata": {},
     "output_type": "execute_result"
    }
   ],
   "source": [
    "# Training the fastText classifier\n",
    "model = fasttext.train_supervised(str(train_path), wordNgrams = 2)\n",
    "\n",
    "# Evaluating performance on the entire test file\n",
    "model.test(str(test_path))                      "
   ]
  },
  {
   "cell_type": "markdown",
   "metadata": {},
   "source": [
    "# Model results"
   ]
  },
  {
   "cell_type": "code",
   "execution_count": 9,
   "metadata": {},
   "outputs": [
    {
     "data": {
      "text/html": [
       "<div>\n",
       "<style scoped>\n",
       "    .dataframe tbody tr th:only-of-type {\n",
       "        vertical-align: middle;\n",
       "    }\n",
       "\n",
       "    .dataframe tbody tr th {\n",
       "        vertical-align: top;\n",
       "    }\n",
       "\n",
       "    .dataframe thead th {\n",
       "        text-align: right;\n",
       "    }\n",
       "</style>\n",
       "<table border=\"1\" class=\"dataframe\">\n",
       "  <thead>\n",
       "    <tr style=\"text-align: right;\">\n",
       "      <th></th>\n",
       "      <th>text</th>\n",
       "      <th>score</th>\n",
       "      <th>predicted_value</th>\n",
       "    </tr>\n",
       "  </thead>\n",
       "  <tbody>\n",
       "    <tr>\n",
       "      <th>398</th>\n",
       "      <td>qqqqq qqqqqqqq kierownik</td>\n",
       "      <td>0.0</td>\n",
       "      <td>0.0</td>\n",
       "    </tr>\n",
       "    <tr>\n",
       "      <th>303</th>\n",
       "      <td>suma ptu qq qq</td>\n",
       "      <td>0.0</td>\n",
       "      <td>0.0</td>\n",
       "    </tr>\n",
       "    <tr>\n",
       "      <th>675</th>\n",
       "      <td>karta millennium debit psn qq</td>\n",
       "      <td>0.0</td>\n",
       "      <td>0.0</td>\n",
       "    </tr>\n",
       "    <tr>\n",
       "      <th>543</th>\n",
       "      <td>curaorbit bag qq qqg</td>\n",
       "      <td>1.0</td>\n",
       "      <td>0.0</td>\n",
       "    </tr>\n",
       "    <tr>\n",
       "      <th>379</th>\n",
       "      <td></td>\n",
       "      <td>0.0</td>\n",
       "      <td>0.0</td>\n",
       "    </tr>\n",
       "    <tr>\n",
       "      <th>...</th>\n",
       "      <td>...</td>\n",
       "      <td>...</td>\n",
       "      <td>...</td>\n",
       "    </tr>\n",
       "    <tr>\n",
       "      <th>328</th>\n",
       "      <td></td>\n",
       "      <td>0.0</td>\n",
       "      <td>0.0</td>\n",
       "    </tr>\n",
       "    <tr>\n",
       "      <th>450</th>\n",
       "      <td>sprzedaz opodatkohana qq qq</td>\n",
       "      <td>0.0</td>\n",
       "      <td>0.0</td>\n",
       "    </tr>\n",
       "    <tr>\n",
       "      <th>390</th>\n",
       "      <td>beata teresa sildak</td>\n",
       "      <td>0.0</td>\n",
       "      <td>0.0</td>\n",
       "    </tr>\n",
       "    <tr>\n",
       "      <th>104</th>\n",
       "      <td>igor</td>\n",
       "      <td>0.0</td>\n",
       "      <td>0.0</td>\n",
       "    </tr>\n",
       "    <tr>\n",
       "      <th>114</th>\n",
       "      <td>suma ptu qq</td>\n",
       "      <td>0.0</td>\n",
       "      <td>0.0</td>\n",
       "    </tr>\n",
       "  </tbody>\n",
       "</table>\n",
       "<p>169 rows × 3 columns</p>\n",
       "</div>"
      ],
      "text/plain": [
       "                              text  score  predicted_value\n",
       "398       qqqqq qqqqqqqq kierownik    0.0              0.0\n",
       "303                 suma ptu qq qq    0.0              0.0\n",
       "675  karta millennium debit psn qq    0.0              0.0\n",
       "543           curaorbit bag qq qqg    1.0              0.0\n",
       "379                                   0.0              0.0\n",
       "..                             ...    ...              ...\n",
       "328                                   0.0              0.0\n",
       "450    sprzedaz opodatkohana qq qq    0.0              0.0\n",
       "390            beata teresa sildak    0.0              0.0\n",
       "104                           igor    0.0              0.0\n",
       "114                    suma ptu qq    0.0              0.0\n",
       "\n",
       "[169 rows x 3 columns]"
      ]
     },
     "execution_count": 9,
     "metadata": {},
     "output_type": "execute_result"
    }
   ],
   "source": [
    "ds['predicted_value'] = [model.predict(text)[0][0] for text in ds['text'].tolist()]\n",
    "ds[['score','predicted_value']] = ds[['score','predicted_value']].applymap(lambda x: float(x.removeprefix('__label__')))\n",
    "ds"
   ]
  },
  {
   "cell_type": "code",
   "execution_count": 10,
   "metadata": {},
   "outputs": [
    {
     "name": "stdout",
     "output_type": "stream",
     "text": [
      "              precision    recall  f1-score   support\n",
      "\n",
      "         0.0       0.95      0.98      0.97       129\n",
      "         1.0       0.94      0.82      0.88        40\n",
      "\n",
      "    accuracy                           0.95       169\n",
      "   macro avg       0.95      0.90      0.92       169\n",
      "weighted avg       0.95      0.95      0.95       169\n",
      "\n",
      "[[127   2]\n",
      " [  7  33]]\n"
     ]
    }
   ],
   "source": [
    "from sklearn.metrics import classification_report, confusion_matrix\n",
    "predictions = ds['predicted_value'].values.reshape((-1,1))\n",
    "score =  ds['score'].values.reshape((-1,1))\n",
    "print(classification_report(score,predictions))\n",
    "print(confusion_matrix(score, predictions))"
   ]
  },
  {
   "cell_type": "markdown",
   "metadata": {},
   "source": [
    "Model efficiency is quite good but lets test simpler approach"
   ]
  },
  {
   "cell_type": "code",
   "execution_count": 11,
   "metadata": {},
   "outputs": [
    {
     "name": "stdout",
     "output_type": "stream",
     "text": [
      "              precision    recall  f1-score   support\n",
      "\n",
      "           0       0.98      1.00      0.99       129\n",
      "           1       1.00      0.95      0.97        40\n",
      "\n",
      "    accuracy                           0.99       169\n",
      "   macro avg       0.99      0.97      0.98       169\n",
      "weighted avg       0.99      0.99      0.99       169\n",
      "\n",
      "[[129   0]\n",
      " [  2  38]]\n"
     ]
    }
   ],
   "source": [
    "# use of custom function to determine whather element has product properties or not\n",
    "def is_product(text):\n",
    "    if re.search(r'\\s\\d+[,.]+?\\d\\d\\s?[0OABC846]\\s', text) and len(text) > 25:\n",
    "        return 1\n",
    "    return 0\n",
    "\n",
    "X_test['determined_by_re'] = X_test['text'].apply(is_product)\n",
    "print(classification_report(y_test.astype(float).astype(int),X_test['determined_by_re']))\n",
    "print(confusion_matrix(y_test.astype(float).astype(int),X_test['determined_by_re']))"
   ]
  }
 ],
 "metadata": {
  "interpreter": {
   "hash": "14dd958b22dbe5447d0654317a237f86b400c24252407a77e845e69303b48bfe"
  },
  "kernelspec": {
   "display_name": "Python 3.9.9 64-bit ('recipe_recognition_env': venv)",
   "language": "python",
   "name": "python3"
  },
  "language_info": {
   "codemirror_mode": {
    "name": "ipython",
    "version": 3
   },
   "file_extension": ".py",
   "mimetype": "text/x-python",
   "name": "python",
   "nbconvert_exporter": "python",
   "pygments_lexer": "ipython3",
   "version": "3.9.9"
  },
  "orig_nbformat": 4
 },
 "nbformat": 4,
 "nbformat_minor": 2
}
